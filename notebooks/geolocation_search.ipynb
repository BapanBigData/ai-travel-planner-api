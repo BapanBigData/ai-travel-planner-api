{
 "cells": [
  {
   "cell_type": "code",
   "execution_count": 1,
   "id": "f36b23f0",
   "metadata": {},
   "outputs": [
    {
     "data": {
      "text/plain": [
       "True"
      ]
     },
     "execution_count": 1,
     "metadata": {},
     "output_type": "execute_result"
    }
   ],
   "source": [
    "# ✅ app/agent/tools.py (Async Refactored)\n",
    "import os\n",
    "import math\n",
    "import httpx\n",
    "from datetime import datetime, timedelta\n",
    "from dotenv import load_dotenv\n",
    "from langchain_core.tools import tool\n",
    "from typing import Optional\n",
    "\n",
    "load_dotenv()"
   ]
  },
  {
   "cell_type": "code",
   "execution_count": 9,
   "id": "0f770705",
   "metadata": {},
   "outputs": [],
   "source": [
    "async def get_geocode_locationiq(place):\n",
    "    url = \"https://us1.locationiq.com/v1/search.php\"\n",
    "    params = {\"key\": os.getenv(\"GEOLOCATION_IQ_API_KEY\"), \"q\": place, \"format\": \"json\"}\n",
    "    async with httpx.AsyncClient() as client:\n",
    "        res = await client.get(url, params=params)\n",
    "        data = res.json()\n",
    "        # print(data)\n",
    "        if data:\n",
    "            return data\n",
    "        else:\n",
    "            return None"
   ]
  },
  {
   "cell_type": "code",
   "execution_count": 15,
   "id": "0abd16a9",
   "metadata": {},
   "outputs": [],
   "source": [
    "response = await get_geocode_locationiq(\"usf, tampa\")"
   ]
  },
  {
   "cell_type": "code",
   "execution_count": 16,
   "id": "86ccc31a",
   "metadata": {},
   "outputs": [
    {
     "data": {
      "text/plain": [
       "list"
      ]
     },
     "execution_count": 16,
     "metadata": {},
     "output_type": "execute_result"
    }
   ],
   "source": [
    "type(response)"
   ]
  },
  {
   "cell_type": "code",
   "execution_count": 17,
   "id": "1b9b8bc2",
   "metadata": {},
   "outputs": [
    {
     "data": {
      "text/plain": [
       "{'place_id': '287939510',\n",
       " 'licence': 'https://locationiq.com/attribution',\n",
       " 'osm_type': 'way',\n",
       " 'osm_id': '31675479',\n",
       " 'boundingbox': ['28.0545068', '28.0690377', '-82.4258585', '-82.401808'],\n",
       " 'lat': '28.0599999',\n",
       " 'lon': '-82.41383619025117',\n",
       " 'display_name': 'University of South Florida, 4202, East Fowler Avenue, Tampa, Hillsborough County, Florida, 33620, USA',\n",
       " 'class': 'amenity',\n",
       " 'type': 'university',\n",
       " 'importance': 0.6434490687890217,\n",
       " 'icon': 'https://locationiq.org/static/images/mapicons/education_university.p.20.png'}"
      ]
     },
     "execution_count": 17,
     "metadata": {},
     "output_type": "execute_result"
    }
   ],
   "source": [
    "response[0]"
   ]
  },
  {
   "cell_type": "code",
   "execution_count": 13,
   "id": "eba9d9b1",
   "metadata": {},
   "outputs": [
    {
     "data": {
      "text/plain": [
       "['12.9140114', '12.9540114', '77.6022304', '77.6422304']"
      ]
     },
     "execution_count": 13,
     "metadata": {},
     "output_type": "execute_result"
    }
   ],
   "source": [
    "response[0]['boundingbox']"
   ]
  },
  {
   "cell_type": "code",
   "execution_count": 14,
   "id": "6aa752da",
   "metadata": {},
   "outputs": [
    {
     "data": {
      "text/plain": [
       "'12.9140114,12.9540114,77.6022304,77.6422304'"
      ]
     },
     "execution_count": 14,
     "metadata": {},
     "output_type": "execute_result"
    }
   ],
   "source": [
    "\",\".join(response[0]['boundingbox'])"
   ]
  },
  {
   "cell_type": "markdown",
   "id": "70cdfcca",
   "metadata": {},
   "source": [
    "[{'place_id': '240308025', 'licence': 'https://locationiq.com/attribution', 'osm_type': 'node', 'osm_id': '429918282', 'boundingbox': ['12.9140114', '12.9540114', '77.6022304', '77.6422304'], 'lat': '12.9340114', 'lon': '77.6222304', 'display_name': 'Koramangala, Bengaluru, Bangalore South, Bengaluru Urban, Karnataka, 560034, India', 'class': 'place', 'type': 'suburb', 'importance': 0.34673761120012203, 'icon': 'https://locationiq.org/static/images/mapicons/poi_place_village.p.20.png'}, {'place_id': '240342856', 'licence': 'https://locationiq.com/attribution', 'osm_type': 'relation', 'osm_id': '17398989', 'boundingbox': ['12.9241369', '12.9488665', '77.6169387', '77.641901'], 'lat': '12.936600649999999', 'lon': '77.6272482963589', 'display_name': 'Koramangala, Bengaluru, Bangalore South, Bengaluru Urban, Karnataka, 560034, India', 'class': 'boundary', 'type': 'local_authority', 'importance': 0.26673761120012207}, {'place_id': '240665654', 'licence': 'https://locationiq.com/attribution', 'osm_type': 'node', 'osm_id': '3192025629', 'boundingbox': ['13.2723988', '13.3123988', '77.7319261', '77.7719261'], 'lat': '13.2923988', 'lon': '77.7519261', 'display_name': 'Koramangala, Devanahalli taluku, Bengaluru North, Karnataka, India', 'class': 'place', 'type': 'village', 'importance': 0.24670990997177078, 'icon': 'https://locationiq.org/static/images/mapicons/poi_place_village.p.20.png'}, {'place_id': '240414695', 'licence': 'https://locationiq.com/attribution', 'osm_type': 'node', 'osm_id': '4466385493', 'boundingbox': ['12.9438001', '12.9439001', '77.6189183', '77.6190183'], 'lat': '12.9438501', 'lon': '77.6189683', 'display_name': 'Koramangala, 67, Main Road, Koramangala 8th Block, Ejipura, Bengaluru, Bangalore South, Bengaluru Urban, Karnataka, 560095, India', 'class': 'amenity', 'type': 'post_office', 'importance': 0.20007094453345536, 'icon': 'https://locationiq.org/static/images/mapicons/amenity_post_office.p.20.png'}, {'place_id': '240353090', 'licence': 'https://locationiq.com/attribution', 'osm_type': 'way', 'osm_id': '122415848', 'boundingbox': ['12.9404394', '12.9415055', '77.6243922', '77.6256818'], 'lat': '12.9408246', 'lon': '77.62507696359751', 'display_name': 'Koramangala TTMC, Srinivagilu Main Road, Koramangala 6th Block, Ejipura, Bengaluru, Bangalore South, Bengaluru Urban, Karnataka, 560095, India', 'class': 'amenity', 'type': 'bus_station', 'importance': 0.20007094453345536, 'icon': 'https://locationiq.org/static/images/mapicons/transport_bus_station.p.20.png'}, {'place_id': '240395971', 'licence': 'https://locationiq.com/attribution', 'osm_type': 'node', 'osm_id': '5803896296', 'boundingbox': ['12.9406594', '12.9407594', '77.6247019', '77.6248019'], 'lat': '12.9407094', 'lon': '77.6247519', 'display_name': 'Koramangala Depot, Srinivagilu Main Road, Koramangala 6th Block, Ejipura, Bengaluru, Bangalore South, Bengaluru Urban, Karnataka, 560095, India', 'class': 'highway', 'type': 'bus_stop', 'importance': 0.20007094453345536, 'icon': 'https://locationiq.org/static/images/mapicons/transport_bus_stop2.p.20.png'}, {'place_id': '240345064', 'licence': 'https://locationiq.com/attribution', 'osm_type': 'node', 'osm_id': '7277381416', 'boundingbox': ['12.925072', '12.925172', '77.6346285', '77.6347285'], 'lat': '12.925122', 'lon': '77.6346785', 'display_name': '1st Block Koramangala, Sarjapura Road, Venkatpura, SBI Colony, Koramangala, Bengaluru, Bangalore South, Bengaluru Urban, Karnataka, 560034, India', 'class': 'highway', 'type': 'bus_stop', 'importance': 0.20007094453345536, 'icon': 'https://locationiq.org/static/images/mapicons/transport_bus_stop2.p.20.png'}, {'place_id': '240311806', 'licence': 'https://locationiq.com/attribution', 'osm_type': 'node', 'osm_id': '1474432219', 'boundingbox': ['12.9355588', '12.9356588', '77.6145466', '77.6146466'], 'lat': '12.9356088', 'lon': '77.6145966', 'display_name': 'Jyothi Nivas College, 80 Feet Road, Koramangala 5th Block, Koramangala, Bengaluru, Bangalore South, Bengaluru Urban, Karnataka, 560095, India', 'class': 'highway', 'type': 'bus_stop', 'importance': 0.20007094453345536, 'icon': 'https://locationiq.org/static/images/mapicons/transport_bus_stop2.p.20.png'}, {'place_id': '240388676', 'licence': 'https://locationiq.com/attribution', 'osm_type': 'node', 'osm_id': '1464962566', 'boundingbox': ['12.9409828', '12.9410828', '77.6206595', '77.6207595'], 'lat': '12.9410328', 'lon': '77.6207095', 'display_name': 'Koramangala Police Station, 80 Feet Road, Koramangala 5th Block, Koramangala, Bengaluru, Bangalore South, Bengaluru Urban, Karnataka, 560095, India', 'class': 'highway', 'type': 'bus_stop', 'importance': 0.20007094453345536, 'icon': 'https://locationiq.org/static/images/mapicons/transport_bus_stop2.p.20.png'}, {'place_id': '240314394', 'licence': 'https://locationiq.com/attribution', 'osm_type': 'node', 'osm_id': '1471128637', 'boundingbox': ['12.9369755', '12.9370755', '77.6181702', '77.6182702'], 'lat': '12.9370255', 'lon': '77.6182202', 'display_name': 'Koramangala Kalyana Mantapa, 80 Feet Road, Koramangala 5th Block, Koramangala, Bengaluru, Bangalore South, Bengaluru Urban, Karnataka, 560095, India', 'class': 'highway', 'type': 'bus_stop', 'importance': 0.20007094453345536, 'icon': 'https://locationiq.org/static/images/mapicons/transport_bus_stop2.p.20.png'}]"
   ]
  },
  {
   "cell_type": "code",
   "execution_count": null,
   "id": "dec7478a",
   "metadata": {},
   "outputs": [],
   "source": [
    "[{'place_id': '240308025', 'licence': 'https://locationiq.com/attribution', 'osm_type': 'node', 'osm_id': '429918282', 'boundingbox': ['12.9140114', '12.9540114', '77.6022304', '77.6422304'], 'lat': '12.9340114', 'lon': '77.6222304', 'display_name': 'Koramangala, Bengaluru, Bangalore South, Bengaluru Urban, Karnataka, 560034, India', 'class': 'place', 'type': 'suburb', 'importance': 0.34673761120012203, 'icon': 'https://locationiq.org/static/images/mapicons/poi_place_village.p.20.png'}, {'place_id': '240342856', 'licence': 'https://locationiq.com/attribution', 'osm_type': 'relation', 'osm_id': '17398989', 'boundingbox': ['12.9241369', '12.9488665', '77.6169387', '77.641901'], 'lat': '12.936600649999999', 'lon': '77.6272482963589', 'display_name': 'Koramangala, Bengaluru, Bangalore South, Bengaluru Urban, Karnataka, 560034, India', 'class': 'boundary', 'type': 'local_authority', 'importance': 0.26673761120012207}, {'place_id': '240665654', 'licence': 'https://locationiq.com/attribution', 'osm_type': 'node', 'osm_id': '3192025629', 'boundingbox': ['13.2723988', '13.3123988', '77.7319261', '77.7719261'], 'lat': '13.2923988', 'lon': '77.7519261', 'display_name': 'Koramangala, Devanahalli taluku, Bengaluru North, Karnataka, India', 'class': 'place', 'type': 'village', 'importance': 0.24670990997177078, 'icon': 'https://locationiq.org/static/images/mapicons/poi_place_village.p.20.png'}, {'place_id': '240414695', 'licence': 'https://locationiq.com/attribution', 'osm_type': 'node', 'osm_id': '4466385493', 'boundingbox': ['12.9438001', '12.9439001', '77.6189183', '77.6190183'], 'lat': '12.9438501', 'lon': '77.6189683', 'display_name': 'Koramangala, 67, Main Road, Koramangala 8th Block, Ejipura, Bengaluru, Bangalore South, Bengaluru Urban, Karnataka, 560095, India', 'class': 'amenity', 'type': 'post_office', 'importance': 0.20007094453345536, 'icon': 'https://locationiq.org/static/images/mapicons/amenity_post_office.p.20.png'}, {'place_id': '240353090', 'licence': 'https://locationiq.com/attribution', 'osm_type': 'way', 'osm_id': '122415848', 'boundingbox': ['12.9404394', '12.9415055', '77.6243922', '77.6256818'], 'lat': '12.9408246', 'lon': '77.62507696359751', 'display_name': 'Koramangala TTMC, Srinivagilu Main Road, Koramangala 6th Block, Ejipura, Bengaluru, Bangalore South, Bengaluru Urban, Karnataka, 560095, India', 'class': 'amenity', 'type': 'bus_station', 'importance': 0.20007094453345536, 'icon': 'https://locationiq.org/static/images/mapicons/transport_bus_station.p.20.png'}, {'place_id': '240395971', 'licence': 'https://locationiq.com/attribution', 'osm_type': 'node', 'osm_id': '5803896296', 'boundingbox': ['12.9406594', '12.9407594', '77.6247019', '77.6248019'], 'lat': '12.9407094', 'lon': '77.6247519', 'display_name': 'Koramangala Depot, Srinivagilu Main Road, Koramangala 6th Block, Ejipura, Bengaluru, Bangalore South, Bengaluru Urban, Karnataka, 560095, India', 'class': 'highway', 'type': 'bus_stop', 'importance': 0.20007094453345536, 'icon': 'https://locationiq.org/static/images/mapicons/transport_bus_stop2.p.20.png'}, {'place_id': '240345064', 'licence': 'https://locationiq.com/attribution', 'osm_type': 'node', 'osm_id': '7277381416', 'boundingbox': ['12.925072', '12.925172', '77.6346285', '77.6347285'], 'lat': '12.925122', 'lon': '77.6346785', 'display_name': '1st Block Koramangala, Sarjapura Road, Venkatpura, SBI Colony, Koramangala, Bengaluru, Bangalore South, Bengaluru Urban, Karnataka, 560034, India', 'class': 'highway', 'type': 'bus_stop', 'importance': 0.20007094453345536, 'icon': 'https://locationiq.org/static/images/mapicons/transport_bus_stop2.p.20.png'}, {'place_id': '240311806', 'licence': 'https://locationiq.com/attribution', 'osm_type': 'node', 'osm_id': '1474432219', 'boundingbox': ['12.9355588', '12.9356588', '77.6145466', '77.6146466'], 'lat': '12.9356088', 'lon': '77.6145966', 'display_name': 'Jyothi Nivas College, 80 Feet Road, Koramangala 5th Block, Koramangala, Bengaluru, Bangalore South, Bengaluru Urban, Karnataka, 560095, India', 'class': 'highway', 'type': 'bus_stop', 'importance': 0.20007094453345536, 'icon': 'https://locationiq.org/static/images/mapicons/transport_bus_stop2.p.20.png'}, {'place_id': '240388676', 'licence': 'https://locationiq.com/attribution', 'osm_type': 'node', 'osm_id': '1464962566', 'boundingbox': ['12.9409828', '12.9410828', '77.6206595', '77.6207595'], 'lat': '12.9410328', 'lon': '77.6207095', 'display_name': 'Koramangala Police Station, 80 Feet Road, Koramangala 5th Block, Koramangala, Bengaluru, Bangalore South, Bengaluru Urban, Karnataka, 560095, India', 'class': 'highway', 'type': 'bus_stop', 'importance': 0.20007094453345536, 'icon': 'https://locationiq.org/static/images/mapicons/transport_bus_stop2.p.20.png'}, {'place_id': '240314394', 'licence': 'https://locationiq.com/attribution', 'osm_type': 'node', 'osm_id': '1471128637', 'boundingbox': ['12.9369755', '12.9370755', '77.6181702', '77.6182702'], 'lat': '12.9370255', 'lon': '77.6182202', 'display_name': 'Koramangala Kalyana Mantapa, 80 Feet Road, Koramangala 5th Block, Koramangala, Bengaluru, Bangalore South, Bengaluru Urban, Karnataka, 560095, India', 'class': 'highway', 'type': 'bus_stop', 'importance': 0.20007094453345536, 'icon': 'https://locationiq.org/static/images/mapicons/transport_bus_stop2.p.20.png'}]"
   ]
  }
 ],
 "metadata": {
  "kernelspec": {
   "display_name": "Python 3",
   "language": "python",
   "name": "python3"
  },
  "language_info": {
   "codemirror_mode": {
    "name": "ipython",
    "version": 3
   },
   "file_extension": ".py",
   "mimetype": "text/x-python",
   "name": "python",
   "nbconvert_exporter": "python",
   "pygments_lexer": "ipython3",
   "version": "3.12.0"
  }
 },
 "nbformat": 4,
 "nbformat_minor": 5
}
