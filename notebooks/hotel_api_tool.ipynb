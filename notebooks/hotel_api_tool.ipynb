{
 "cells": [
  {
   "cell_type": "code",
   "execution_count": 1,
   "id": "d6139379",
   "metadata": {},
   "outputs": [
    {
     "data": {
      "text/plain": [
       "True"
      ]
     },
     "execution_count": 1,
     "metadata": {},
     "output_type": "execute_result"
    }
   ],
   "source": [
    "import os\n",
    "from dotenv import load_dotenv\n",
    "\n",
    "load_dotenv()"
   ]
  },
  {
   "cell_type": "code",
   "execution_count": null,
   "id": "99b6ef7b",
   "metadata": {},
   "outputs": [],
   "source": [
    "from langchain_core.tools import tool\n",
    "import requests\n",
    "import os\n",
    "import math\n",
    "\n",
    "def haversine_distance(lat1, lon1, lat2, lon2):\n",
    "    \"\"\"Calculate great-circle distance between two points on Earth.\"\"\"\n",
    "    R = 6371  # Earth radius in kilometers\n",
    "    phi1, phi2 = math.radians(lat1), math.radians(lat2)\n",
    "    d_phi = math.radians(lat2 - lat1)\n",
    "    d_lambda = math.radians(lon2 - lon1)\n",
    "    a = math.sin(d_phi / 2) ** 2 + math.cos(phi1) * math.cos(phi2) * math.sin(d_lambda / 2) ** 2\n",
    "    c = 2 * math.atan2(math.sqrt(a), math.sqrt(1 - a))\n",
    "    return R * c\n",
    "\n",
    "@tool\n",
    "def get_hotels_by_area_and_radius(\n",
    "    bbox: str,\n",
    "    arrival_date: str,\n",
    "    departure_date: str,\n",
    "    star_rating: str = \"3,4,5\",\n",
    "    room_qty: int = 1,\n",
    "    guest_qty: int = 1,\n",
    "    children_qty: int = 0,\n",
    "    children_age: str = \"\",\n",
    "    currency: str = \"USD\",\n",
    "    order_by: str = \"popularity\",\n",
    "    categories_filter: str = \"class::1,class::2,class::3\",\n",
    "    language: str = \"en-us\",\n",
    "    travel_purpose: str = \"leisure\",\n",
    "    offset: int = 0\n",
    ") -> list:\n",
    "    \"\"\"\n",
    "    Fetch hotel listings within a bounding box and return only key fields, sorted by distance to bbox center.\n",
    "\n",
    "    Parameters:\n",
    "        - bbox (str): Bounding box in format \"min_lat,max_lat,min_lng,max_lng\"\n",
    "        - star_rating (str): Comma-separated star classes to filter, e.g., \"3,4,5\"\n",
    "        - arrival_date (str): Check-in date (YYYY-MM-DD)\n",
    "        - departure_date (str): Check-out date (YYYY-MM-DD)\n",
    "        - room_qty (int): Number of rooms\n",
    "        - guest_qty (int): Number of adults\n",
    "        - children_qty (int): Number of children\n",
    "        - children_age (str): Comma-separated list of children ages\n",
    "        - currency (str): Price currency (e.g., USD, INR)\n",
    "        - order_by (str): API sort preference (not used post-filter)\n",
    "        - categories_filter (str): Used internally, overridden by star_rating\n",
    "        - language (str): Response language\n",
    "        - travel_purpose (str): \"leisure\" or \"business\"\n",
    "        - offset (int): Pagination offset\n",
    "\n",
    "    Returns:\n",
    "        - list of hotel dicts sorted by ascending distance from bbox center.\n",
    "    \"\"\"\n",
    "\n",
    "    # Convert star_rating to API-compatible format\n",
    "    categories_filter = \",\".join([f\"class::{s.strip()}\" for s in star_rating.split(\",\")])\n",
    "\n",
    "    # Compute bbox center\n",
    "    try:\n",
    "        min_lat, max_lat, min_lng, max_lng = map(float, bbox.split(\",\"))\n",
    "        center_lat = (min_lat + max_lat) / 2\n",
    "        center_lng = (min_lng + max_lng) / 2\n",
    "    except Exception as e:\n",
    "        return [{\"error\": f\"Invalid bbox format: {e}\"}]\n",
    "\n",
    "    url = \"https://apidojo-booking-v1.p.rapidapi.com/properties/list-by-map\"\n",
    "    \n",
    "    querystring = {\n",
    "        \"room_qty\": str(room_qty),\n",
    "        \"guest_qty\": str(guest_qty),\n",
    "        \"bbox\": bbox,\n",
    "        \"search_id\": \"none\",\n",
    "        \"children_age\": children_age,\n",
    "        \"price_filter_currencycode\": currency,\n",
    "        \"categories_filter\": categories_filter,\n",
    "        \"languagecode\": language,\n",
    "        \"travel_purpose\": travel_purpose,\n",
    "        \"children_qty\": str(children_qty),\n",
    "        \"order_by\": order_by,\n",
    "        \"offset\": str(offset),\n",
    "        \"arrival_date\": arrival_date,\n",
    "        \"departure_date\": departure_date\n",
    "    }\n",
    "    headers = {\n",
    "        \"x-rapidapi-key\": os.getenv(\"RAPIDAPI_KEY_HOTELS\"),\n",
    "        \"x-rapidapi-host\": \"apidojo-booking-v1.p.rapidapi.com\"\n",
    "    }\n",
    "\n",
    "    response = requests.get(url, headers=headers, params=querystring)\n",
    "    if response.status_code != 200:\n",
    "        return [{\"error\": response.text}]\n",
    "\n",
    "    results = response.json().get(\"result\", [])\n",
    "    hotels = []\n",
    "\n",
    "    for item in results:\n",
    "        if not item.get(\"class\"):\n",
    "            continue\n",
    "\n",
    "        lat = item.get(\"latitude\")\n",
    "        lng = item.get(\"longitude\")\n",
    "        if lat is None or lng is None:\n",
    "            continue\n",
    "\n",
    "        distance_km = haversine_distance(center_lat, center_lng, lat, lng)\n",
    "\n",
    "        hotels.append({\n",
    "            \"name\": item.get(\"hotel_name\"),\n",
    "            \"star_rating\": item.get(\"class\"),\n",
    "            \"review_score\": item.get(\"review_score\"),\n",
    "            \"review_word\": item.get(\"review_score_word\"),\n",
    "            \"review_count\": item.get(\"review_nr\"),\n",
    "            \"address\": item.get(\"address\"),\n",
    "            \"city\": item.get(\"city\"),\n",
    "            \"district\": item.get(\"district\"),\n",
    "            \"latitude\": lat,\n",
    "            \"longitude\": lng,\n",
    "            \"price_per_night\": item.get(\"min_total_price\") or (\n",
    "                item.get(\"price_breakdown\", {}).get(\"all_inclusive_price\")\n",
    "            ),\n",
    "            \"image\": item.get(\"main_photo_url\"),\n",
    "            \"booking_url\": item.get(\"url\"),\n",
    "            \"is_free_cancellable\": item.get(\"is_free_cancellable\"),\n",
    "            \"is_mobile_deal\": item.get(\"is_mobile_deal\"),\n",
    "            \"checkin_from\": item.get(\"checkin\", {}).get(\"from\"),\n",
    "            \"checkout_until\": item.get(\"checkout\", {}).get(\"until\"),\n",
    "            \"distance_km\": round(distance_km, 2)\n",
    "        })\n",
    "\n",
    "    # Sort by distance from bbox center\n",
    "    hotels.sort(key=lambda h: h[\"distance_km\"])\n",
    "    return hotels"
   ]
  },
  {
   "cell_type": "code",
   "execution_count": 3,
   "id": "905fa064",
   "metadata": {},
   "outputs": [],
   "source": [
    "# %pip install geopy"
   ]
  },
  {
   "cell_type": "code",
   "execution_count": 4,
   "id": "cf56edcc",
   "metadata": {},
   "outputs": [],
   "source": [
    "from geopy.geocoders import Nominatim"
   ]
  },
  {
   "cell_type": "code",
   "execution_count": 5,
   "id": "debbddcb",
   "metadata": {},
   "outputs": [],
   "source": [
    "def get_coordinates(location: str):\n",
    "    geolocator = Nominatim(user_agent=\"bbox_converter_app\")\n",
    "    location_obj = geolocator.geocode(location)\n",
    "    if location_obj:\n",
    "        return location_obj.latitude, location_obj.longitude\n",
    "    else:\n",
    "        raise ValueError(\"Could not geocode location.\")"
   ]
  },
  {
   "cell_type": "code",
   "execution_count": 6,
   "id": "386c9812",
   "metadata": {},
   "outputs": [
    {
     "data": {
      "text/plain": [
       "(22.5551591, 88.3501171)"
      ]
     },
     "execution_count": 6,
     "metadata": {},
     "output_type": "execute_result"
    }
   ],
   "source": [
    "get_coordinates(\"Park Street, Kolkata\")"
   ]
  },
  {
   "cell_type": "code",
   "execution_count": 7,
   "id": "880142b3",
   "metadata": {},
   "outputs": [
    {
     "data": {
      "text/plain": [
       "(12.9385701, 77.6329963)"
      ]
     },
     "execution_count": 7,
     "metadata": {},
     "output_type": "execute_result"
    }
   ],
   "source": [
    "get_coordinates(\"Koramangala, Bangalore\")"
   ]
  },
  {
   "cell_type": "code",
   "execution_count": 8,
   "id": "d8b9c5be",
   "metadata": {},
   "outputs": [
    {
     "data": {
      "text/plain": [
       "(12.9881567, 77.6226)"
      ]
     },
     "execution_count": 8,
     "metadata": {},
     "output_type": "execute_result"
    }
   ],
   "source": [
    "get_coordinates(\"South bangalore\")"
   ]
  },
  {
   "cell_type": "code",
   "execution_count": 9,
   "id": "76bf5b27",
   "metadata": {},
   "outputs": [],
   "source": [
    "def get_bbox(lat, lon, radius_km=5):\n",
    "    lat_delta = radius_km / 111  # 1 deg lat ~ 111 km\n",
    "    lon_delta = radius_km / (111 * abs(math.cos(math.radians(lat))) or 0.0001)  # Avoid division by zero\n",
    "    return f\"{lat - lat_delta:.4f},{lat + lat_delta:.4f},{lon - lon_delta:.4f},{lon + lon_delta:.4f}\"\n"
   ]
  },
  {
   "cell_type": "code",
   "execution_count": 10,
   "id": "2438094c",
   "metadata": {},
   "outputs": [
    {
     "data": {
      "text/plain": [
       "'12.9431,13.0332,77.5764,77.6688'"
      ]
     },
     "execution_count": 10,
     "metadata": {},
     "output_type": "execute_result"
    }
   ],
   "source": [
    "lat, lon = get_coordinates(\"South bangalore\")\n",
    "\n",
    "get_bbox(lat, lon)"
   ]
  },
  {
   "cell_type": "code",
   "execution_count": 11,
   "id": "7e52f61c",
   "metadata": {},
   "outputs": [],
   "source": [
    "def location_to_bbox_string(location: str, radius_km=5):\n",
    "    lat, lon = get_coordinates(location)\n",
    "    return get_bbox(lat, lon, radius_km)"
   ]
  },
  {
   "cell_type": "code",
   "execution_count": 17,
   "id": "04e56696",
   "metadata": {},
   "outputs": [
    {
     "data": {
      "text/plain": [
       "'15.1746,15.2647,74.0692,74.1626'"
      ]
     },
     "execution_count": 17,
     "metadata": {},
     "output_type": "execute_result"
    }
   ],
   "source": [
    "location_to_bbox_string(\"south goa\")"
   ]
  },
  {
   "cell_type": "code",
   "execution_count": 18,
   "id": "098c1092",
   "metadata": {},
   "outputs": [
    {
     "data": {
      "text/plain": [
       "[]"
      ]
     },
     "execution_count": 18,
     "metadata": {},
     "output_type": "execute_result"
    }
   ],
   "source": [
    "bbox = location_to_bbox_string(\"south goa\")\n",
    "response = get_hotels_by_area_and_radius.invoke({\n",
    "    \"bbox\": bbox,\n",
    "    \"arrival_date\": \"2025-07-13\",\n",
    "    \"departure_date\": \"2025-07-15\",\n",
    "    \"star_rating\": \"4,5\"\n",
    "})\n",
    "\n",
    "response"
   ]
  },
  {
   "cell_type": "code",
   "execution_count": 19,
   "id": "3ba9e0b8",
   "metadata": {},
   "outputs": [
    {
     "data": {
      "text/plain": [
       "0"
      ]
     },
     "execution_count": 19,
     "metadata": {},
     "output_type": "execute_result"
    }
   ],
   "source": [
    "len(response)"
   ]
  },
  {
   "cell_type": "code",
   "execution_count": 3,
   "id": "91d6c4d4",
   "metadata": {},
   "outputs": [
    {
     "name": "stdout",
     "output_type": "stream",
     "text": [
      "[{'place_id': '287939510', 'licence': 'https://locationiq.com/attribution', 'osm_type': 'way', 'osm_id': '31675479', 'boundingbox': ['28.0545068', '28.0690377', '-82.4258585', '-82.401808'], 'lat': '28.0599999', 'lon': '-82.41383619025117', 'display_name': 'University of South Florida, 4202, East Fowler Avenue, Tampa, Hillsborough County, Florida, 33620, USA', 'class': 'amenity', 'type': 'university', 'importance': 0.6534490687890218, 'icon': 'https://locationiq.org/static/images/mapicons/education_university.p.20.png'}]\n",
      "\n",
      "\n",
      "28.0599999 -82.41383619025117\n"
     ]
    }
   ],
   "source": [
    "import requests\n",
    "import os\n",
    "from dotenv import load_dotenv\n",
    "\n",
    "load_dotenv()\n",
    "\n",
    "def geocode_locationiq(place):\n",
    "    url = \"https://us1.locationiq.com/v1/search.php\"\n",
    "    params = {\n",
    "        \"key\": os.getenv(\"GEOLOCATION_IQ_API_KEY\"),  \n",
    "        \"q\": place,\n",
    "        \"format\": \"json\"\n",
    "    }\n",
    "    res = requests.get(url, params=params)\n",
    "    data = res.json()\n",
    "    print(data)\n",
    "    print('\\n')\n",
    "    if data:\n",
    "        return float(data[0][\"lat\"]), float(data[0][\"lon\"])\n",
    "    else:\n",
    "        return None\n",
    "\n",
    "lat, lon = geocode_locationiq(\"USF, Tampa\")\n",
    "print(lat, lon)"
   ]
  },
  {
   "cell_type": "markdown",
   "id": "2ad6b2cc",
   "metadata": {},
   "source": [
    "[{'place_id': '287939510', 'licence': 'https://locationiq.com/attribution', 'osm_type': 'way', 'osm_id': '31675479', 'boundingbox': ['28.0545068', '28.0690377', '-82.4258585', '-82.401808'], 'lat': '28.0599999', 'lon': '-82.41383619025117', 'display_name': 'University of South Florida, 4202, East Fowler Avenue, Tampa, Hillsborough County, Florida, 33620, USA', 'class': 'amenity', 'type': 'university', 'importance': 0.6534490687890218, 'icon': 'https://locationiq.org/static/images/mapicons/education_university.p.20.png'}]\n"
   ]
  },
  {
   "cell_type": "code",
   "execution_count": 7,
   "id": "84d0a1ad",
   "metadata": {},
   "outputs": [
    {
     "name": "stdout",
     "output_type": "stream",
     "text": [
      "[{'place_id': '332025444529', 'osm_type': 'way', 'osm_id': '245612130', 'licence': 'https://locationiq.com/attribution', 'lat': '17.613161', 'lon': '121.703947', 'display_name': 'Hotel Ivory, Luna Street, Tuguegarao, Cagayan, 3500, Philippines', 'boundingbox': ['17.6127772', '17.6135287', '121.7037433', '121.7042563'], 'importance': 0.25}]\n",
      "\n",
      "\n",
      "17.613161 121.703947\n"
     ]
    }
   ],
   "source": [
    "lat, lon = geocode_locationiq(\"hotel ivory pearl, koramangala, bangalore\")\n",
    "print(lat, lon)"
   ]
  },
  {
   "cell_type": "markdown",
   "id": "ea9fd725",
   "metadata": {},
   "source": [
    "[{'place_id': '332025444529', 'osm_type': 'way', 'osm_id': '245612130', 'licence': 'https://locationiq.com/attribution', 'lat': '17.613161', 'lon': '121.703947', 'display_name': 'Hotel Ivory, Luna Street, Tuguegarao, Cagayan, 3500, Philippines', 'boundingbox': ['17.6127772', '17.6135287', '121.7037433', '121.7042563'], 'importance': 0.25}]\n"
   ]
  },
  {
   "cell_type": "code",
   "execution_count": 6,
   "id": "db9ed963",
   "metadata": {},
   "outputs": [
    {
     "name": "stdout",
     "output_type": "stream",
     "text": [
      "[{'place_id': '240788098', 'licence': 'https://locationiq.com/attribution', 'osm_type': 'node', 'osm_id': '658457698', 'boundingbox': ['12.8959605', '12.9359605', '77.2777719', '77.3177719'], 'lat': '12.9159605', 'lon': '77.2977719', 'display_name': 'Savandurga, Magadi taluku, Bengaluru South, Karnataka, 561201, India', 'class': 'place', 'type': 'village', 'importance': 0.256724851606012, 'icon': 'https://locationiq.org/static/images/mapicons/poi_place_village.p.20.png'}]\n",
      "\n",
      "\n",
      "12.9159605 77.2977719\n"
     ]
    }
   ],
   "source": [
    "lat, lon = geocode_locationiq(\"Savandurga\")\n",
    "print(lat, lon)"
   ]
  },
  {
   "cell_type": "markdown",
   "id": "9e166e8b",
   "metadata": {},
   "source": [
    "[{'place_id': '240788098', 'licence': 'https://locationiq.com/attribution', 'osm_type': 'node', 'osm_id': '658457698', 'boundingbox': ['12.8959605', '12.9359605', '77.2777719', '77.3177719'], 'lat': '12.9159605', 'lon': '77.2977719', 'display_name': 'Savandurga, Magadi taluku, Bengaluru South, Karnataka, 561201, India', 'class': 'place', 'type': 'village', 'importance': 0.256724851606012, 'icon': 'https://locationiq.org/static/images/mapicons/poi_place_village.p.20.png'}]\n"
   ]
  },
  {
   "cell_type": "code",
   "execution_count": 9,
   "id": "19caee8a",
   "metadata": {},
   "outputs": [],
   "source": [
    "import requests\n",
    "import os\n",
    "from dotenv import load_dotenv\n",
    "from langchain_core.tools import tool\n",
    "\n",
    "load_dotenv()\n",
    "\n",
    "@tool\n",
    "def geocode_locationiq(place: str) -> dict:\n",
    "    \"\"\"\n",
    "    Geocode a human-readable place name into geographic coordinates using LocationIQ API.\n",
    "\n",
    "    This tool takes a location name (e.g., \"Park Street, Kolkata\" or \"USF, Tampa\") \n",
    "    and returns geospatial metadata including its bounding box, latitude, longitude, \n",
    "    display name, and location type.\n",
    "\n",
    "    Parameters:\n",
    "        place (str): The name of the location to geocode.\n",
    "\n",
    "    Returns:\n",
    "        dict: A dictionary containing the following keys:\n",
    "            - 'boundingbox': List of [min_lat, max_lat, min_lng, max_lng]\n",
    "            - 'lat': Latitude of the place (float)\n",
    "            - 'lon': Longitude of the place (float)\n",
    "            - 'display_name': Full formatted address (str)\n",
    "            - 'type': Type of place (e.g., 'university', 'neighbourhood')\n",
    "            \n",
    "        If geocoding fails, a dictionary with an 'error' key is returned.\n",
    "    \"\"\"\n",
    "    url = \"https://us1.locationiq.com/v1/search.php\"\n",
    "    params = {\n",
    "        \"key\": os.getenv(\"GEOLOCATION_IQ_API_KEY\"),\n",
    "        \"q\": place,\n",
    "        \"format\": \"json\"\n",
    "    }\n",
    "\n",
    "    try:\n",
    "        response = requests.get(url, params=params)\n",
    "        response.raise_for_status()\n",
    "        data = response.json()\n",
    "\n",
    "        if not data:\n",
    "            return {\"error\": f\"No result found for place: {place}\"}\n",
    "\n",
    "        first_result = data[0]\n",
    "        return {\n",
    "            \"boundingbox\": first_result.get(\"boundingbox\"),\n",
    "            \"lat\": float(first_result.get(\"lat\")),\n",
    "            \"lon\": float(first_result.get(\"lon\")),\n",
    "            \"display_name\": first_result.get(\"display_name\"),\n",
    "            \"type\": first_result.get(\"type\")\n",
    "        }\n",
    "\n",
    "    except Exception as e:\n",
    "        return {\"error\": str(e)}\n"
   ]
  },
  {
   "cell_type": "code",
   "execution_count": 10,
   "id": "0d33e572",
   "metadata": {},
   "outputs": [
    {
     "data": {
      "text/plain": [
       "'Geocode a human-readable place name into geographic coordinates using LocationIQ API.\\n\\nThis tool takes a location name (e.g., \"Park Street, Kolkata\" or \"USF, Tampa\") \\nand returns geospatial metadata including its bounding box, latitude, longitude, \\ndisplay name, and location type.\\n\\nParameters:\\n    place (str): The name of the location to geocode.\\n\\nReturns:\\n    dict: A dictionary containing the following keys:\\n        - \\'boundingbox\\': List of [min_lat, max_lat, min_lng, max_lng]\\n        - \\'lat\\': Latitude of the place (float)\\n        - \\'lon\\': Longitude of the place (float)\\n        - \\'display_name\\': Full formatted address (str)\\n        - \\'type\\': Type of place (e.g., \\'university\\', \\'neighbourhood\\')\\n\\n    If geocoding fails, a dictionary with an \\'error\\' key is returned.'"
      ]
     },
     "execution_count": 10,
     "metadata": {},
     "output_type": "execute_result"
    }
   ],
   "source": [
    "geocode_locationiq.description"
   ]
  },
  {
   "cell_type": "code",
   "execution_count": 11,
   "id": "b9253307",
   "metadata": {},
   "outputs": [
    {
     "data": {
      "text/plain": [
       "{'boundingbox': ['12.8959605', '12.9359605', '77.2777719', '77.3177719'],\n",
       " 'lat': 12.9159605,\n",
       " 'lon': 77.2977719,\n",
       " 'display_name': 'Savandurga, Magadi taluku, Bengaluru South, Karnataka, 561201, India',\n",
       " 'type': 'village'}"
      ]
     },
     "execution_count": 11,
     "metadata": {},
     "output_type": "execute_result"
    }
   ],
   "source": [
    "geocode_locationiq.invoke(\n",
    "    {\n",
    "        'place': 'Savandurga'\n",
    "    }\n",
    ")"
   ]
  },
  {
   "cell_type": "code",
   "execution_count": 14,
   "id": "2bd71e6d",
   "metadata": {},
   "outputs": [
    {
     "data": {
      "text/plain": [
       "{'boundingbox': ['15.1990963', '15.2373877', '73.9243121', '73.9352197'],\n",
       " 'lat': 15.2179493,\n",
       " 'lon': 73.9300810048542,\n",
       " 'display_name': 'Varca Beach, Orlim, Salcete, South Goa, Goa, India',\n",
       " 'type': 'beach'}"
      ]
     },
     "execution_count": 14,
     "metadata": {},
     "output_type": "execute_result"
    }
   ],
   "source": [
    "geocode_locationiq.invoke(\n",
    "    {\n",
    "        'place': 'Varca Beach, Salcete, Goa, Varca'\n",
    "    }\n",
    ")"
   ]
  },
  {
   "cell_type": "code",
   "execution_count": null,
   "id": "26e9ca75",
   "metadata": {},
   "outputs": [],
   "source": []
  }
 ],
 "metadata": {
  "kernelspec": {
   "display_name": "Python 3",
   "language": "python",
   "name": "python3"
  },
  "language_info": {
   "codemirror_mode": {
    "name": "ipython",
    "version": 3
   },
   "file_extension": ".py",
   "mimetype": "text/x-python",
   "name": "python",
   "nbconvert_exporter": "python",
   "pygments_lexer": "ipython3",
   "version": "3.12.0"
  }
 },
 "nbformat": 4,
 "nbformat_minor": 5
}
