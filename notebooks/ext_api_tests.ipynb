{
 "cells": [
  {
   "cell_type": "code",
   "execution_count": 1,
   "id": "e964bbde",
   "metadata": {},
   "outputs": [
    {
     "data": {
      "text/plain": [
       "True"
      ]
     },
     "execution_count": 1,
     "metadata": {},
     "output_type": "execute_result"
    }
   ],
   "source": [
    "import os\n",
    "from dotenv import load_dotenv\n",
    "\n",
    "load_dotenv()"
   ]
  },
  {
   "cell_type": "code",
   "execution_count": null,
   "id": "f9e46b7f",
   "metadata": {},
   "outputs": [],
   "source": []
  },
  {
   "cell_type": "code",
   "execution_count": null,
   "id": "3bb6363b",
   "metadata": {},
   "outputs": [],
   "source": []
  },
  {
   "cell_type": "code",
   "execution_count": null,
   "id": "8aa133e1",
   "metadata": {},
   "outputs": [],
   "source": []
  },
  {
   "cell_type": "code",
   "execution_count": 2,
   "id": "456752c5",
   "metadata": {},
   "outputs": [],
   "source": [
    "from langchain_core.tools import tool\n",
    "import requests\n",
    "import os\n",
    "import math\n",
    "\n",
    "def haversine_distance(lat1, lon1, lat2, lon2):\n",
    "    \"\"\"Calculate great-circle distance between two points on Earth.\"\"\"\n",
    "    R = 6371  # Earth radius in kilometers\n",
    "    phi1, phi2 = math.radians(lat1), math.radians(lat2)\n",
    "    d_phi = math.radians(lat2 - lat1)\n",
    "    d_lambda = math.radians(lon2 - lon1)\n",
    "    a = math.sin(d_phi / 2) ** 2 + math.cos(phi1) * math.cos(phi2) * math.sin(d_lambda / 2) ** 2\n",
    "    c = 2 * math.atan2(math.sqrt(a), math.sqrt(1 - a))\n",
    "    return R * c\n",
    "\n",
    "@tool\n",
    "def get_hotels_by_area_and_radius(\n",
    "    bbox: str,\n",
    "    arrival_date: str,\n",
    "    departure_date: str,\n",
    "    star_rating: str = \"3,4,5\",\n",
    "    room_qty: int = 1,\n",
    "    guest_qty: int = 1,\n",
    "    children_qty: int = 0,\n",
    "    children_age: str = \"\",\n",
    "    currency: str = \"USD\",\n",
    "    order_by: str = \"popularity\",\n",
    "    categories_filter: str = \"class::1,class::2,class::3\",\n",
    "    language: str = \"en-us\",\n",
    "    travel_purpose: str = \"leisure\",\n",
    "    offset: int = 0\n",
    ") -> list:\n",
    "    \"\"\"\n",
    "    Fetch hotel listings within a bounding box and return only key fields, sorted by distance to bbox center.\n",
    "\n",
    "    Parameters:\n",
    "        - bbox (str): Bounding box in format \"min_lat,max_lat,min_lng,max_lng\"\n",
    "        - star_rating (str): Comma-separated star classes to filter, e.g., \"3,4,5\"\n",
    "        - arrival_date (str): Check-in date (YYYY-MM-DD)\n",
    "        - departure_date (str): Check-out date (YYYY-MM-DD)\n",
    "        - room_qty (int): Number of rooms\n",
    "        - guest_qty (int): Number of adults\n",
    "        - children_qty (int): Number of children\n",
    "        - children_age (str): Comma-separated list of children ages\n",
    "        - currency (str): Price currency (e.g., USD, INR)\n",
    "        - order_by (str): API sort preference (not used post-filter)\n",
    "        - categories_filter (str): Used internally, overridden by star_rating\n",
    "        - language (str): Response language\n",
    "        - travel_purpose (str): \"leisure\" or \"business\"\n",
    "        - offset (int): Pagination offset\n",
    "\n",
    "    Returns:\n",
    "        - list of hotel dicts sorted by ascending distance from bbox center.\n",
    "    \"\"\"\n",
    "\n",
    "    # Convert star_rating to API-compatible format\n",
    "    categories_filter = \",\".join([f\"class::{s.strip()}\" for s in star_rating.split(\",\")])\n",
    "\n",
    "    # Compute bbox center\n",
    "    try:\n",
    "        min_lat, max_lat, min_lng, max_lng = map(float, bbox.split(\",\"))\n",
    "        center_lat = (min_lat + max_lat) / 2\n",
    "        center_lng = (min_lng + max_lng) / 2\n",
    "    except Exception as e:\n",
    "        return [{\"error\": f\"Invalid bbox format: {e}\"}]\n",
    "\n",
    "    url = \"https://apidojo-booking-v1.p.rapidapi.com/properties/list-by-map\"\n",
    "    querystring = {\n",
    "        \"room_qty\": str(room_qty),\n",
    "        \"guest_qty\": str(guest_qty),\n",
    "        \"bbox\": bbox,\n",
    "        \"search_id\": \"none\",\n",
    "        \"children_age\": children_age,\n",
    "        \"price_filter_currencycode\": currency,\n",
    "        \"categories_filter\": categories_filter,\n",
    "        \"languagecode\": language,\n",
    "        \"travel_purpose\": travel_purpose,\n",
    "        \"children_qty\": str(children_qty),\n",
    "        \"order_by\": order_by,\n",
    "        \"offset\": str(offset),\n",
    "        \"arrival_date\": arrival_date,\n",
    "        \"departure_date\": departure_date\n",
    "    }\n",
    "    headers = {\n",
    "        \"x-rapidapi-key\": os.getenv(\"RAPIDAPI_KEY_HOTELS\"),\n",
    "        \"x-rapidapi-host\": \"apidojo-booking-v1.p.rapidapi.com\"\n",
    "    }\n",
    "\n",
    "    response = requests.get(url, headers=headers, params=querystring)\n",
    "    if response.status_code != 200:\n",
    "        return [{\"error\": response.text}]\n",
    "\n",
    "    results = response.json().get(\"result\", [])\n",
    "    hotels = []\n",
    "\n",
    "    for item in results:\n",
    "        if not item.get(\"class\"):\n",
    "            continue\n",
    "\n",
    "        lat = item.get(\"latitude\")\n",
    "        lng = item.get(\"longitude\")\n",
    "        if lat is None or lng is None:\n",
    "            continue\n",
    "\n",
    "        distance_km = haversine_distance(center_lat, center_lng, lat, lng)\n",
    "\n",
    "        hotels.append({\n",
    "            \"name\": item.get(\"hotel_name\"),\n",
    "            \"star_rating\": item.get(\"class\"),\n",
    "            \"review_score\": item.get(\"review_score\"),\n",
    "            \"review_word\": item.get(\"review_score_word\"),\n",
    "            \"review_count\": item.get(\"review_nr\"),\n",
    "            \"address\": item.get(\"address\"),\n",
    "            \"city\": item.get(\"city\"),\n",
    "            \"district\": item.get(\"district\"),\n",
    "            \"latitude\": lat,\n",
    "            \"longitude\": lng,\n",
    "            \"price_per_night\": item.get(\"min_total_price\") or (\n",
    "                item.get(\"price_breakdown\", {}).get(\"all_inclusive_price\")\n",
    "            ),\n",
    "            \"image\": item.get(\"main_photo_url\"),\n",
    "            \"booking_url\": item.get(\"url\"),\n",
    "            \"is_free_cancellable\": item.get(\"is_free_cancellable\"),\n",
    "            \"is_mobile_deal\": item.get(\"is_mobile_deal\"),\n",
    "            \"checkin_from\": item.get(\"checkin\", {}).get(\"from\"),\n",
    "            \"checkout_until\": item.get(\"checkout\", {}).get(\"until\"),\n",
    "            \"distance_km\": round(distance_km, 2)\n",
    "        })\n",
    "\n",
    "    # Sort by distance from bbox center\n",
    "    hotels.sort(key=lambda h: h[\"distance_km\"])\n",
    "    return hotels"
   ]
  },
  {
   "cell_type": "code",
   "execution_count": 3,
   "id": "fcd7055b",
   "metadata": {},
   "outputs": [
    {
     "data": {
      "text/plain": [
       "'Fetch hotel listings within a bounding box and return only key fields, sorted by distance to bbox center.\\n\\nParameters:\\n    - bbox (str): Bounding box in format \"min_lat,max_lat,min_lng,max_lng\"\\n    - star_rating (str): Comma-separated star classes to filter, e.g., \"3,4,5\"\\n    - arrival_date (str): Check-in date (YYYY-MM-DD)\\n    - departure_date (str): Check-out date (YYYY-MM-DD)\\n    - room_qty (int): Number of rooms\\n    - guest_qty (int): Number of adults\\n    - children_qty (int): Number of children\\n    - children_age (str): Comma-separated list of children ages\\n    - currency (str): Price currency (e.g., USD, INR)\\n    - order_by (str): API sort preference (not used post-filter)\\n    - categories_filter (str): Used internally, overridden by star_rating\\n    - language (str): Response language\\n    - travel_purpose (str): \"leisure\" or \"business\"\\n    - offset (int): Pagination offset\\n\\nReturns:\\n    - list of hotel dicts sorted by ascending distance from bbox center.'"
      ]
     },
     "execution_count": 3,
     "metadata": {},
     "output_type": "execute_result"
    }
   ],
   "source": [
    "get_hotels_by_area_and_radius.description"
   ]
  },
  {
   "cell_type": "code",
   "execution_count": 4,
   "id": "d8e31a70",
   "metadata": {},
   "outputs": [
    {
     "data": {
      "text/plain": [
       "{'bbox': {'title': 'Bbox', 'type': 'string'},\n",
       " 'arrival_date': {'title': 'Arrival Date', 'type': 'string'},\n",
       " 'departure_date': {'title': 'Departure Date', 'type': 'string'},\n",
       " 'star_rating': {'default': '3,4,5', 'title': 'Star Rating', 'type': 'string'},\n",
       " 'room_qty': {'default': 1, 'title': 'Room Qty', 'type': 'integer'},\n",
       " 'guest_qty': {'default': 1, 'title': 'Guest Qty', 'type': 'integer'},\n",
       " 'children_qty': {'default': 0, 'title': 'Children Qty', 'type': 'integer'},\n",
       " 'children_age': {'default': '', 'title': 'Children Age', 'type': 'string'},\n",
       " 'currency': {'default': 'USD', 'title': 'Currency', 'type': 'string'},\n",
       " 'order_by': {'default': 'popularity', 'title': 'Order By', 'type': 'string'},\n",
       " 'categories_filter': {'default': 'class::1,class::2,class::3',\n",
       "  'title': 'Categories Filter',\n",
       "  'type': 'string'},\n",
       " 'language': {'default': 'en-us', 'title': 'Language', 'type': 'string'},\n",
       " 'travel_purpose': {'default': 'leisure',\n",
       "  'title': 'Travel Purpose',\n",
       "  'type': 'string'},\n",
       " 'offset': {'default': 0, 'title': 'Offset', 'type': 'integer'}}"
      ]
     },
     "execution_count": 4,
     "metadata": {},
     "output_type": "execute_result"
    }
   ],
   "source": [
    "get_hotels_by_area_and_radius.args"
   ]
  },
  {
   "cell_type": "code",
   "execution_count": null,
   "id": "e9e60eaf",
   "metadata": {},
   "outputs": [
    {
     "data": {
      "text/plain": [
       "[{'name': 'Greenpark Bengaluru',\n",
       "  'star_rating': 5.0,\n",
       "  'review_score': 8.5,\n",
       "  'review_word': 'Very Good',\n",
       "  'review_count': 384,\n",
       "  'address': 'No. 75 & 172, Bannerghatta main road, J P Nagar',\n",
       "  'city': 'Bengaluru',\n",
       "  'district': '',\n",
       "  'latitude': 12.89751,\n",
       "  'longitude': 77.600046,\n",
       "  'price_per_night': 17550,\n",
       "  'image': 'https://cf.bstatic.com/xdata/images/hotel/square60/464861089.jpg?k=4a92dc79477e66a2eff4742b136f3a8ae44b557c6a02a6d4dfe0f4bb24f8b086&o=',\n",
       "  'booking_url': 'https://www.booking.com/hotel/in/greenpark-bengaluru.html',\n",
       "  'is_free_cancellable': 1,\n",
       "  'is_mobile_deal': 0,\n",
       "  'checkin_from': '14:00',\n",
       "  'checkout_until': '12:00',\n",
       "  'distance_km': 2.84},\n",
       " {'name': 'Super Collection O Bannergatta Road Near Decathlon',\n",
       "  'star_rating': 4.0,\n",
       "  'review_score': 7.8,\n",
       "  'review_word': 'Good',\n",
       "  'review_count': 60,\n",
       "  'address': 'Himagiri, Gottigere, Near Decathlon, Bannerghatta Road',\n",
       "  'city': 'Bangalore',\n",
       "  'district': '',\n",
       "  'latitude': 12.8614167,\n",
       "  'longitude': 77.58975,\n",
       "  'price_per_night': 3467.48,\n",
       "  'image': 'https://cf.bstatic.com/xdata/images/hotel/square60/663567041.jpg?k=ab89b7dea9be23e85272ab67695b87ae436646fee9c44720c2acd8bab4e41907&o=',\n",
       "  'booking_url': 'https://www.booking.com/hotel/in/collection-o-82501-blue-waters-lounge-bangalore.html',\n",
       "  'is_free_cancellable': 1,\n",
       "  'is_mobile_deal': 0,\n",
       "  'checkin_from': '12:00',\n",
       "  'checkout_until': '11:00',\n",
       "  'distance_km': 3.56},\n",
       " {'name': 'Super Townhouse BTM Layout Near Madiwala Lake Formerly Q Rooms',\n",
       "  'star_rating': 4.0,\n",
       "  'review_score': 7.6,\n",
       "  'review_word': 'Good',\n",
       "  'review_count': 190,\n",
       "  'address': 'Plot Number 447, 7th Cross Road, Stage 2 BTM Layout, Bangalore',\n",
       "  'city': 'Bangalore',\n",
       "  'district': 'BTM Layout',\n",
       "  'latitude': 12.9135034764044,\n",
       "  'longitude': 77.6054028168904,\n",
       "  'price_per_night': 5366.27,\n",
       "  'image': 'https://cf.bstatic.com/xdata/images/hotel/square60/658120828.jpg?k=a73a9c609982f4d01fc2076f334ccf4832735bfd86087a3288d8783e07806e6e&o=',\n",
       "  'booking_url': 'https://www.booking.com/hotel/in/oyo-townhouse-264-stage-2-btm-layout.html',\n",
       "  'is_free_cancellable': 1,\n",
       "  'is_mobile_deal': 0,\n",
       "  'checkin_from': '12:00',\n",
       "  'checkout_until': '11:00',\n",
       "  'distance_km': 4.21},\n",
       " {'name': 'Hotel O PM Hotels',\n",
       "  'star_rating': 4.0,\n",
       "  'review_score': 4.7,\n",
       "  'review_word': 'Disappointing',\n",
       "  'review_count': 7,\n",
       "  'address': 'Roopena Agrahara 6th Main Road',\n",
       "  'city': 'Bengaluru',\n",
       "  'district': '',\n",
       "  'latitude': 12.91177,\n",
       "  'longitude': 77.62427,\n",
       "  'price_per_night': 2689.78,\n",
       "  'image': 'https://cf.bstatic.com/xdata/images/hotel/square60/683598288.jpg?k=d97161721567d16aea2c9fdc8f20c804f8ba8a393f40713a01d0e010dc1b1ef7&o=',\n",
       "  'booking_url': 'https://www.booking.com/hotel/in/simrey-amp-rooms.html',\n",
       "  'is_free_cancellable': 1,\n",
       "  'is_mobile_deal': 0,\n",
       "  'checkin_from': '12:00',\n",
       "  'checkout_until': '11:00',\n",
       "  'distance_km': 5.86},\n",
       " {'name': 'Super Hotel O Varcity Phi Premium Pavilion ,Above HDFC Bank ,Near Anjaneya Temple Madiwala, Hosur Main r',\n",
       "  'star_rating': 4.0,\n",
       "  'review_score': 4.6,\n",
       "  'review_word': 'Disappointing',\n",
       "  'review_count': 156,\n",
       "  'address': '1, 21, Old Madiwala, Madiwala, 1st Stage, B T M Layout, Bangalore',\n",
       "  'city': 'Bangalore',\n",
       "  'district': 'Koramangala',\n",
       "  'latitude': 12.9220598785763,\n",
       "  'longitude': 77.6196639024669,\n",
       "  'price_per_night': 3262.02,\n",
       "  'image': 'https://cf.bstatic.com/xdata/images/hotel/square60/689639738.jpg?k=f51af97de914daa1cca5aef6c1dec52b585e3a578179ce1dfa25dba7bafb9ab2&o=',\n",
       "  'booking_url': 'https://www.booking.com/hotel/in/oyo-14397-varcity-phi-pavilion-bangalore1234.html',\n",
       "  'is_free_cancellable': 1,\n",
       "  'is_mobile_deal': 0,\n",
       "  'checkin_from': '12:00',\n",
       "  'checkout_until': '11:00',\n",
       "  'distance_km': 6.01},\n",
       " {'name': 'Townhouse Oak RNSIT RR nagar',\n",
       "  'star_rating': 4.0,\n",
       "  'review_score': None,\n",
       "  'review_word': '',\n",
       "  'review_count': None,\n",
       "  'address': 'Plot No 5, R.R Nagar Main Road, Channasandra, Rajarajeshwari, Bangalore',\n",
       "  'city': 'Bangalore',\n",
       "  'district': '',\n",
       "  'latitude': 12.904175,\n",
       "  'longitude': 77.52121,\n",
       "  'price_per_night': 2972.52,\n",
       "  'image': 'https://cf.bstatic.com/xdata/images/hotel/square60/698325947.jpg?k=8ea9c1cb405c110285e8b3b93cd37632716839b92bcc53deb6b3b34a88fed208&o=',\n",
       "  'booking_url': 'https://www.booking.com/hotel/in/townhouse-oak-rnsit-rr-nagar.html',\n",
       "  'is_free_cancellable': 1,\n",
       "  'is_mobile_deal': 0,\n",
       "  'checkin_from': '12:00',\n",
       "  'checkout_until': '11:00',\n",
       "  'distance_km': 6.04},\n",
       " {'name': 'Mount City Park Hotel Madiwala',\n",
       "  'star_rating': 5.0,\n",
       "  'review_score': 5.3,\n",
       "  'review_word': 'Fair',\n",
       "  'review_count': 59,\n",
       "  'address': '20, 1ST MAIN, Maruthi Nagar Main Rd, 1ST CROSS, Madiwala, Bengaluru, Karnataka 560068',\n",
       "  'city': 'Bengaluru',\n",
       "  'district': '',\n",
       "  'latitude': 12.926952809032,\n",
       "  'longitude': 77.616221785983,\n",
       "  'price_per_night': 3645,\n",
       "  'image': 'https://cf.bstatic.com/xdata/images/hotel/square60/492498152.jpg?k=5bd99f5412ce1f8262ee879d119d5a6fd1ac2b65ba15f9130016372a156adf9f&o=',\n",
       "  'booking_url': 'https://www.booking.com/hotel/in/mount-city-park.html',\n",
       "  'is_free_cancellable': 1,\n",
       "  'is_mobile_deal': 1,\n",
       "  'checkin_from': '12:00',\n",
       "  'checkout_until': '10:00',\n",
       "  'distance_km': 6.07},\n",
       " {'name': 'Astra Hotels & Suites - Koramangala',\n",
       "  'star_rating': 4.0,\n",
       "  'review_score': 8.1,\n",
       "  'review_word': 'Very Good',\n",
       "  'review_count': 173,\n",
       "  'address': 'No.46/B18th Main Road, Santhosapuram, Koramangala 2nd Block',\n",
       "  'city': 'Bangalore',\n",
       "  'district': 'Koramangala',\n",
       "  'latitude': 12.92575,\n",
       "  'longitude': 77.61833,\n",
       "  'price_per_night': 6069.63,\n",
       "  'image': 'https://cf.bstatic.com/xdata/images/hotel/square60/692130161.jpg?k=f8d2c45273a1edceb377645fc5e11ae4acbcb7ec232aa48691690d2e5b6ad068&o=',\n",
       "  'booking_url': 'https://www.booking.com/hotel/in/astra-hotels-and-suites.html',\n",
       "  'is_free_cancellable': 1,\n",
       "  'is_mobile_deal': 0,\n",
       "  'checkin_from': '12:00',\n",
       "  'checkout_until': '11:00',\n",
       "  'distance_km': 6.15},\n",
       " {'name': 'Townhouse Hosur Main Road Bommanahalli Near Gopalan Innovation Mall',\n",
       "  'star_rating': 4.0,\n",
       "  'review_score': 5.8,\n",
       "  'review_word': 'Okay',\n",
       "  'review_count': 70,\n",
       "  'address': '319/1d, Hosur Main Road, Bommanahalli, Bangalore',\n",
       "  'city': 'Bangalore',\n",
       "  'district': '',\n",
       "  'latitude': 12.9042125,\n",
       "  'longitude': 77.6299527,\n",
       "  'price_per_night': 4629.02,\n",
       "  'image': 'https://cf.bstatic.com/xdata/images/hotel/square60/691740527.jpg?k=544bda643c99dabb8b78b7450a1ad011d26d079773fa999bb85a29c75b619368&o=',\n",
       "  'booking_url': 'https://www.booking.com/hotel/in/oyo-townhouse-273-hosur-main-road-bommanahalli.html',\n",
       "  'is_free_cancellable': 1,\n",
       "  'is_mobile_deal': 0,\n",
       "  'checkin_from': '12:00',\n",
       "  'checkout_until': '11:00',\n",
       "  'distance_km': 6.16},\n",
       " {'name': 'RG Suites HSR',\n",
       "  'star_rating': 4.0,\n",
       "  'review_score': 9.3,\n",
       "  'review_word': 'Wonderful',\n",
       "  'review_count': 166,\n",
       "  'address': '45&46, 5th Main Rd 45&46, 5th Main Rd, Rajiv Gandhi Nagar, 7th sector, HSR Layout, Bengaluru, Karnataka 560102',\n",
       "  'city': 'Bengaluru',\n",
       "  'district': 'HSR Layout',\n",
       "  'latitude': 12.907317,\n",
       "  'longitude': 77.632495,\n",
       "  'price_per_night': 3870,\n",
       "  'image': 'https://cf.bstatic.com/xdata/images/hotel/square60/657753943.jpg?k=59ac146b2c5b1d51c6650fd07b81d0fd1eaee53d9a95171279478aa0a614074f&o=',\n",
       "  'booking_url': 'https://www.booking.com/hotel/in/rg-suites-hsr.html',\n",
       "  'is_free_cancellable': 1,\n",
       "  'is_mobile_deal': 1,\n",
       "  'checkin_from': '12:00',\n",
       "  'checkout_until': '11:30',\n",
       "  'distance_km': 6.52},\n",
       " {'name': 'Super Townhouse Koramangala',\n",
       "  'star_rating': 4.0,\n",
       "  'review_score': 5.9,\n",
       "  'review_word': 'Okay',\n",
       "  'review_count': 101,\n",
       "  'address': 'Plot Number 45, 100 Feet Road, Opposite Malabar Gold, 4th Block, Koramangla',\n",
       "  'city': 'Bangalore',\n",
       "  'district': 'Koramangala',\n",
       "  'latitude': 12.9358745,\n",
       "  'longitude': 77.6254695,\n",
       "  'price_per_night': 5335.47,\n",
       "  'image': 'https://cf.bstatic.com/xdata/images/hotel/square60/640219267.jpg?k=4c6f0ac26f198f7b7148d6be8a252e47ed915122156a80d68f5f2b5654b569e6&o=',\n",
       "  'booking_url': 'https://www.booking.com/hotel/in/townhouse-174-de-oriell-boutique.html',\n",
       "  'is_free_cancellable': 1,\n",
       "  'is_mobile_deal': 0,\n",
       "  'checkin_from': '12:00',\n",
       "  'checkout_until': '11:00',\n",
       "  'distance_km': 7.48},\n",
       " {'name': 'Tulip Inn Koramangala Bangalore',\n",
       "  'star_rating': 4.0,\n",
       "  'review_score': 8.0,\n",
       "  'review_word': 'Very Good',\n",
       "  'review_count': 379,\n",
       "  'address': 'No:68/272-9, Koramangala 100 feet road, Egipura',\n",
       "  'city': 'Bengaluru',\n",
       "  'district': 'Koramangala',\n",
       "  'latitude': 12.9386851788583,\n",
       "  'longitude': 77.6298284725608,\n",
       "  'price_per_night': 11800,\n",
       "  'image': 'https://cf.bstatic.com/xdata/images/hotel/square60/336696305.jpg?k=c53f06f2f4192b41eec6932e5d6af2b6086272e25fc6659fc3b087c45a29ac96&o=',\n",
       "  'booking_url': 'https://www.booking.com/hotel/in/tulip-inn-koramangala.html',\n",
       "  'is_free_cancellable': 1,\n",
       "  'is_mobile_deal': 0,\n",
       "  'checkin_from': '12:00',\n",
       "  'checkout_until': '12:00',\n",
       "  'distance_km': 8.04},\n",
       " {'name': 'Treebo Premium Raj Vista Global Village',\n",
       "  'star_rating': 4.0,\n",
       "  'review_score': 8.0,\n",
       "  'review_word': 'Very Good',\n",
       "  'review_count': 58,\n",
       "  'address': '2, Behind Karnataka Bank, BEML Layout 7th Stage, Mailasandra, Bengaluru, Karnataka',\n",
       "  'city': 'Bangalore',\n",
       "  'district': '',\n",
       "  'latitude': 12.914776208144,\n",
       "  'longitude': 77.5019772961521,\n",
       "  'price_per_night': 7924.99,\n",
       "  'image': 'https://cf.bstatic.com/xdata/images/hotel/square60/321200914.jpg?k=fd22a0cdac33e731cc6e3fd85c1ca5105b25dcc047cc13a20c86bc6dca8ea09b&o=',\n",
       "  'booking_url': 'https://www.booking.com/hotel/in/treebo-tryst-raj-vista.html',\n",
       "  'is_free_cancellable': 1,\n",
       "  'is_mobile_deal': 0,\n",
       "  'checkin_from': '13:00',\n",
       "  'checkout_until': '11:00',\n",
       "  'distance_km': 8.38}]"
      ]
     },
     "execution_count": 5,
     "metadata": {},
     "output_type": "execute_result"
    }
   ],
   "source": [
    "response = get_hotels_by_area_and_radius.invoke({\n",
    "    \"bbox\": \"12.8300,12.9500,77.5000,77.6500\", ## South Bangalore\n",
    "    \"arrival_date\": \"2025-07-10\",\n",
    "    \"departure_date\": \"2025-07-13\",\n",
    "    \"star_rating\": \"4,5\"\n",
    "})\n",
    "response"
   ]
  },
  {
   "cell_type": "code",
   "execution_count": 6,
   "id": "ce06b804",
   "metadata": {},
   "outputs": [
    {
     "data": {
      "text/plain": [
       "{'name': 'Greenpark Bengaluru',\n",
       " 'star_rating': 5.0,\n",
       " 'review_score': 8.5,\n",
       " 'review_word': 'Very Good',\n",
       " 'review_count': 384,\n",
       " 'address': 'No. 75 & 172, Bannerghatta main road, J P Nagar',\n",
       " 'city': 'Bengaluru',\n",
       " 'district': '',\n",
       " 'latitude': 12.89751,\n",
       " 'longitude': 77.600046,\n",
       " 'price_per_night': 17550,\n",
       " 'image': 'https://cf.bstatic.com/xdata/images/hotel/square60/464861089.jpg?k=4a92dc79477e66a2eff4742b136f3a8ae44b557c6a02a6d4dfe0f4bb24f8b086&o=',\n",
       " 'booking_url': 'https://www.booking.com/hotel/in/greenpark-bengaluru.html',\n",
       " 'is_free_cancellable': 1,\n",
       " 'is_mobile_deal': 0,\n",
       " 'checkin_from': '14:00',\n",
       " 'checkout_until': '12:00',\n",
       " 'distance_km': 2.84}"
      ]
     },
     "execution_count": 6,
     "metadata": {},
     "output_type": "execute_result"
    }
   ],
   "source": [
    "response[0]"
   ]
  },
  {
   "cell_type": "code",
   "execution_count": 7,
   "id": "37644cd2",
   "metadata": {},
   "outputs": [
    {
     "data": {
      "text/plain": [
       "{'name': 'Super Collection O Bannergatta Road Near Decathlon',\n",
       " 'star_rating': 4.0,\n",
       " 'review_score': 7.8,\n",
       " 'review_word': 'Good',\n",
       " 'review_count': 60,\n",
       " 'address': 'Himagiri, Gottigere, Near Decathlon, Bannerghatta Road',\n",
       " 'city': 'Bangalore',\n",
       " 'district': '',\n",
       " 'latitude': 12.8614167,\n",
       " 'longitude': 77.58975,\n",
       " 'price_per_night': 3467.48,\n",
       " 'image': 'https://cf.bstatic.com/xdata/images/hotel/square60/663567041.jpg?k=ab89b7dea9be23e85272ab67695b87ae436646fee9c44720c2acd8bab4e41907&o=',\n",
       " 'booking_url': 'https://www.booking.com/hotel/in/collection-o-82501-blue-waters-lounge-bangalore.html',\n",
       " 'is_free_cancellable': 1,\n",
       " 'is_mobile_deal': 0,\n",
       " 'checkin_from': '12:00',\n",
       " 'checkout_until': '11:00',\n",
       " 'distance_km': 3.56}"
      ]
     },
     "execution_count": 7,
     "metadata": {},
     "output_type": "execute_result"
    }
   ],
   "source": [
    "response[1]"
   ]
  },
  {
   "cell_type": "code",
   "execution_count": 8,
   "id": "173e512b",
   "metadata": {},
   "outputs": [
    {
     "data": {
      "text/plain": [
       "13"
      ]
     },
     "execution_count": 8,
     "metadata": {},
     "output_type": "execute_result"
    }
   ],
   "source": [
    "len(response)"
   ]
  },
  {
   "cell_type": "code",
   "execution_count": 9,
   "id": "b567e3c3",
   "metadata": {},
   "outputs": [
    {
     "data": {
      "text/plain": [
       "{'name': 'Super Townhouse BTM Layout Near Madiwala Lake Formerly Q Rooms',\n",
       " 'star_rating': 4.0,\n",
       " 'review_score': 7.6,\n",
       " 'review_word': 'Good',\n",
       " 'review_count': 190,\n",
       " 'address': 'Plot Number 447, 7th Cross Road, Stage 2 BTM Layout, Bangalore',\n",
       " 'city': 'Bangalore',\n",
       " 'district': 'BTM Layout',\n",
       " 'latitude': 12.9135034764044,\n",
       " 'longitude': 77.6054028168904,\n",
       " 'price_per_night': 5366.27,\n",
       " 'image': 'https://cf.bstatic.com/xdata/images/hotel/square60/658120828.jpg?k=a73a9c609982f4d01fc2076f334ccf4832735bfd86087a3288d8783e07806e6e&o=',\n",
       " 'booking_url': 'https://www.booking.com/hotel/in/oyo-townhouse-264-stage-2-btm-layout.html',\n",
       " 'is_free_cancellable': 1,\n",
       " 'is_mobile_deal': 0,\n",
       " 'checkin_from': '12:00',\n",
       " 'checkout_until': '11:00',\n",
       " 'distance_km': 4.21}"
      ]
     },
     "execution_count": 9,
     "metadata": {},
     "output_type": "execute_result"
    }
   ],
   "source": [
    "response[2]"
   ]
  },
  {
   "cell_type": "code",
   "execution_count": 30,
   "id": "504d493a",
   "metadata": {},
   "outputs": [
    {
     "data": {
      "text/plain": [
       "[{'name': 'Hyatt Place Tampa Busch Gardens',\n",
       "  'star_rating': 3.0,\n",
       "  'review_score': 8.0,\n",
       "  'review_word': 'Very Good',\n",
       "  'review_count': 795,\n",
       "  'address': '11408 North 30th Street',\n",
       "  'city': 'Tampa (Florida)',\n",
       "  'district': '',\n",
       "  'latitude': 28.052475283906,\n",
       "  'longitude': -82.4280979313522,\n",
       "  'price_per_night': 494,\n",
       "  'image': 'https://cf.bstatic.com/xdata/images/hotel/square60/535388901.jpg?k=90b33f4d591bd52e55155a16605f9572b1ae3f206351fe0808f6015d6288bcd9&o=',\n",
       "  'booking_url': 'https://www.booking.com/hotel/us/hyatt-place-tampa-busch-gardens.html',\n",
       "  'is_free_cancellable': 1,\n",
       "  'is_mobile_deal': 0,\n",
       "  'checkin_from': '15:00',\n",
       "  'checkout_until': '12:00',\n",
       "  'distance_km': 1.87},\n",
       " {'name': 'OASIS BAY SUITES, Tampa, Busch Gardens, USF',\n",
       "  'star_rating': 4.0,\n",
       "  'review_score': 8.2,\n",
       "  'review_word': 'Very Good',\n",
       "  'review_count': 949,\n",
       "  'address': '3001 University Center Drive',\n",
       "  'city': 'Tampa',\n",
       "  'district': 'Temple Terrace',\n",
       "  'latitude': 28.0443636,\n",
       "  'longitude': -82.4254149,\n",
       "  'price_per_night': 375.3,\n",
       "  'image': 'https://cf.bstatic.com/xdata/images/hotel/square60/588095891.jpg?k=b04f7558429a3498d7ed403077e0be284ea6f9f97c9085a04be456bf24134ea2&o=',\n",
       "  'booking_url': 'https://www.booking.com/hotel/us/oasis-bay-suites.html',\n",
       "  'is_free_cancellable': 1,\n",
       "  'is_mobile_deal': 0,\n",
       "  'checkin_from': '15:00',\n",
       "  'checkout_until': '11:30',\n",
       "  'distance_km': 2.42}]"
      ]
     },
     "execution_count": 30,
     "metadata": {},
     "output_type": "execute_result"
    }
   ],
   "source": [
    "response1 = get_hotels_by_area_and_radius.invoke({\n",
    "    \"bbox\": \"28.0185,28.1085,-82.4627,-82.3647\", ## USF, Tampa, Florida \n",
    "    \"arrival_date\": \"2025-07-10\",\n",
    "    \"departure_date\": \"2025-07-13\",\n",
    "    \"star_rating\": \"3,4,5\"\n",
    "})\n",
    "\n",
    "response1"
   ]
  },
  {
   "cell_type": "code",
   "execution_count": 32,
   "id": "8dceeb58",
   "metadata": {},
   "outputs": [
    {
     "data": {
      "text/plain": [
       "{'name': 'Hyatt Place Tampa Busch Gardens',\n",
       " 'star_rating': 3.0,\n",
       " 'review_score': 8.0,\n",
       " 'review_word': 'Very Good',\n",
       " 'review_count': 795,\n",
       " 'address': '11408 North 30th Street',\n",
       " 'city': 'Tampa (Florida)',\n",
       " 'district': '',\n",
       " 'latitude': 28.052475283906,\n",
       " 'longitude': -82.4280979313522,\n",
       " 'price_per_night': 494,\n",
       " 'image': 'https://cf.bstatic.com/xdata/images/hotel/square60/535388901.jpg?k=90b33f4d591bd52e55155a16605f9572b1ae3f206351fe0808f6015d6288bcd9&o=',\n",
       " 'booking_url': 'https://www.booking.com/hotel/us/hyatt-place-tampa-busch-gardens.html',\n",
       " 'is_free_cancellable': 1,\n",
       " 'is_mobile_deal': 0,\n",
       " 'checkin_from': '15:00',\n",
       " 'checkout_until': '12:00',\n",
       " 'distance_km': 1.87}"
      ]
     },
     "execution_count": 32,
     "metadata": {},
     "output_type": "execute_result"
    }
   ],
   "source": [
    "response1[0]"
   ]
  },
  {
   "cell_type": "code",
   "execution_count": 33,
   "id": "cc727176",
   "metadata": {},
   "outputs": [
    {
     "data": {
      "text/plain": [
       "{'name': 'OASIS BAY SUITES, Tampa, Busch Gardens, USF',\n",
       " 'star_rating': 4.0,\n",
       " 'review_score': 8.2,\n",
       " 'review_word': 'Very Good',\n",
       " 'review_count': 949,\n",
       " 'address': '3001 University Center Drive',\n",
       " 'city': 'Tampa',\n",
       " 'district': 'Temple Terrace',\n",
       " 'latitude': 28.0443636,\n",
       " 'longitude': -82.4254149,\n",
       " 'price_per_night': 375.3,\n",
       " 'image': 'https://cf.bstatic.com/xdata/images/hotel/square60/588095891.jpg?k=b04f7558429a3498d7ed403077e0be284ea6f9f97c9085a04be456bf24134ea2&o=',\n",
       " 'booking_url': 'https://www.booking.com/hotel/us/oasis-bay-suites.html',\n",
       " 'is_free_cancellable': 1,\n",
       " 'is_mobile_deal': 0,\n",
       " 'checkin_from': '15:00',\n",
       " 'checkout_until': '11:30',\n",
       " 'distance_km': 2.42}"
      ]
     },
     "execution_count": 33,
     "metadata": {},
     "output_type": "execute_result"
    }
   ],
   "source": [
    "response1[1]"
   ]
  },
  {
   "cell_type": "code",
   "execution_count": 31,
   "id": "5eac129f",
   "metadata": {},
   "outputs": [
    {
     "data": {
      "text/plain": [
       "2"
      ]
     },
     "execution_count": 31,
     "metadata": {},
     "output_type": "execute_result"
    }
   ],
   "source": [
    "len(response1)"
   ]
  },
  {
   "cell_type": "code",
   "execution_count": 12,
   "id": "43d31176",
   "metadata": {},
   "outputs": [
    {
     "data": {
      "text/plain": [
       "{'name': 'OASIS BAY SUITES, Tampa, Busch Gardens, USF',\n",
       " 'star_rating': 4.0,\n",
       " 'review_score': 8.2,\n",
       " 'review_word': 'Very Good',\n",
       " 'review_count': 949,\n",
       " 'address': '3001 University Center Drive',\n",
       " 'city': 'Tampa',\n",
       " 'district': 'Temple Terrace',\n",
       " 'latitude': 28.0443636,\n",
       " 'longitude': -82.4254149,\n",
       " 'price_per_night': 375.3,\n",
       " 'image': 'https://cf.bstatic.com/xdata/images/hotel/square60/588095891.jpg?k=b04f7558429a3498d7ed403077e0be284ea6f9f97c9085a04be456bf24134ea2&o=',\n",
       " 'booking_url': 'https://www.booking.com/hotel/us/oasis-bay-suites.html',\n",
       " 'is_free_cancellable': 1,\n",
       " 'is_mobile_deal': 0,\n",
       " 'checkin_from': '15:00',\n",
       " 'checkout_until': '11:30',\n",
       " 'distance_km': 1.96}"
      ]
     },
     "execution_count": 12,
     "metadata": {},
     "output_type": "execute_result"
    }
   ],
   "source": [
    "response1[0]"
   ]
  },
  {
   "cell_type": "code",
   "execution_count": 13,
   "id": "e1d15e9b",
   "metadata": {},
   "outputs": [
    {
     "data": {
      "text/plain": [
       "{'name': 'Hyatt Place Tampa Busch Gardens',\n",
       " 'star_rating': 3.0,\n",
       " 'review_score': 8.0,\n",
       " 'review_word': 'Very Good',\n",
       " 'review_count': 795,\n",
       " 'address': '11408 North 30th Street',\n",
       " 'city': 'Tampa (Florida)',\n",
       " 'district': '',\n",
       " 'latitude': 28.052475283906,\n",
       " 'longitude': -82.4280979313522,\n",
       " 'price_per_night': 494,\n",
       " 'image': 'https://cf.bstatic.com/xdata/images/hotel/square60/535388901.jpg?k=90b33f4d591bd52e55155a16605f9572b1ae3f206351fe0808f6015d6288bcd9&o=',\n",
       " 'booking_url': 'https://www.booking.com/hotel/us/hyatt-place-tampa-busch-gardens.html',\n",
       " 'is_free_cancellable': 1,\n",
       " 'is_mobile_deal': 0,\n",
       " 'checkin_from': '15:00',\n",
       " 'checkout_until': '12:00',\n",
       " 'distance_km': 1.99}"
      ]
     },
     "execution_count": 13,
     "metadata": {},
     "output_type": "execute_result"
    }
   ],
   "source": [
    "response1[1]"
   ]
  },
  {
   "cell_type": "code",
   "execution_count": null,
   "id": "b84b1c3a",
   "metadata": {},
   "outputs": [
    {
     "data": {
      "text/plain": [
       "[{'name': 'Mint House Dallas - Downtown',\n",
       "  'star_rating': 3.0,\n",
       "  'review_score': 9.3,\n",
       "  'review_word': 'Wonderful',\n",
       "  'review_count': 956,\n",
       "  'address': '1601 Elm Street',\n",
       "  'city': 'Dallas',\n",
       "  'district': 'Main Street District',\n",
       "  'latitude': 32.781927,\n",
       "  'longitude': -96.798179,\n",
       "  'price_per_night': 555.3,\n",
       "  'image': 'https://cf.bstatic.com/xdata/images/hotel/square60/452429741.jpg?k=dfa580de9d8e3ee7b69df307237e0b272af2e71fd6b8376c5c4df74ff1317da2&o=',\n",
       "  'booking_url': 'https://www.booking.com/hotel/us/the-guild-downtown-elm-st.html',\n",
       "  'is_free_cancellable': 0,\n",
       "  'is_mobile_deal': 1,\n",
       "  'checkin_from': '15:00',\n",
       "  'checkout_until': '11:00',\n",
       "  'distance_km': 0.84},\n",
       " {'name': 'Hyatt Regency Dallas',\n",
       "  'star_rating': 4.0,\n",
       "  'review_score': 8.5,\n",
       "  'review_word': 'Very Good',\n",
       "  'review_count': 999,\n",
       "  'address': '300 Reunion Boulevard',\n",
       "  'city': 'Dallas (Texas)',\n",
       "  'district': 'Downtown Dallas',\n",
       "  'latitude': 32.7764796754412,\n",
       "  'longitude': -96.8089860677719,\n",
       "  'price_per_night': 627,\n",
       "  'image': 'https://cf.bstatic.com/xdata/images/hotel/square60/199181724.jpg?k=4917e7203aecd96d01ea52c32ace43fe9ba79af9e2c50e188d7221b7c5950fb3&o=',\n",
       "  'booking_url': 'https://www.booking.com/hotel/us/hyatt-regency-dallas.html',\n",
       "  'is_free_cancellable': 1,\n",
       "  'is_mobile_deal': 0,\n",
       "  'checkin_from': '16:00',\n",
       "  'checkout_until': '11:00',\n",
       "  'distance_km': 2.01},\n",
       " {'name': 'Locale Victory Park - Dallas',\n",
       "  'star_rating': 5.0,\n",
       "  'review_score': 9.2,\n",
       "  'review_word': 'Wonderful',\n",
       "  'review_count': 274,\n",
       "  'address': '3111 North Houston St',\n",
       "  'city': 'Dallas',\n",
       "  'district': 'Uptown Dallas',\n",
       "  'latitude': 32.7924044039174,\n",
       "  'longitude': -96.8104961468812,\n",
       "  'price_per_night': 957,\n",
       "  'image': 'https://cf.bstatic.com/xdata/images/hotel/square60/436422388.jpg?k=1938e8d849c75e24ad39522d4cae0ed366a4fc0dee08821d4c3ad395be5278ca&o=',\n",
       "  'booking_url': 'https://www.booking.com/hotel/us/the-guild-dallas-victory-park-katy-trail.html',\n",
       "  'is_free_cancellable': 1,\n",
       "  'is_mobile_deal': 0,\n",
       "  'checkin_from': '15:00',\n",
       "  'checkout_until': '11:00',\n",
       "  'distance_km': 2.09},\n",
       " {'name': 'Hyatt House Dallas Uptown',\n",
       "  'star_rating': 3.0,\n",
       "  'review_score': 7.7,\n",
       "  'review_word': 'Good',\n",
       "  'review_count': 1060,\n",
       "  'address': '2914 Harry Hines Boulevard',\n",
       "  'city': 'Dallas (Texas)',\n",
       "  'district': 'Uptown Dallas',\n",
       "  'latitude': 32.794589,\n",
       "  'longitude': -96.809977,\n",
       "  'price_per_night': 329.43,\n",
       "  'image': 'https://cf.bstatic.com/xdata/images/hotel/square60/707312595.jpg?k=0e3132e27d3d3306ba6238d415261347418d5306fc49f226b209c5f2a8852385&o=',\n",
       "  'booking_url': 'https://www.booking.com/hotel/us/hyatt-house-dallas-uptown.html',\n",
       "  'is_free_cancellable': 1,\n",
       "  'is_mobile_deal': 0,\n",
       "  'checkin_from': '16:00',\n",
       "  'checkout_until': '11:00',\n",
       "  'distance_km': 2.15},\n",
       " {'name': 'The Madison Hotel',\n",
       "  'star_rating': 3.0,\n",
       "  'review_score': 8.9,\n",
       "  'review_word': 'Excellent',\n",
       "  'review_count': 54,\n",
       "  'address': '1159 N Madison Ave',\n",
       "  'city': 'Dallas',\n",
       "  'district': '',\n",
       "  'latitude': 32.757913753123,\n",
       "  'longitude': -96.82541079241,\n",
       "  'price_per_night': 457.43,\n",
       "  'image': 'https://cf.bstatic.com/xdata/images/hotel/square60/586918303.jpg?k=8fd53844e709f73d2e22de05c899de5b4fd30aa3c60103e911eede912cf58d19&o=',\n",
       "  'booking_url': 'https://www.booking.com/hotel/us/the-madison-dallas.html',\n",
       "  'is_free_cancellable': 1,\n",
       "  'is_mobile_deal': 1,\n",
       "  'checkin_from': '16:00',\n",
       "  'checkout_until': '23:00',\n",
       "  'distance_km': 4.48}]"
      ]
     },
     "execution_count": 14,
     "metadata": {},
     "output_type": "execute_result"
    }
   ],
   "source": [
    "response2 = get_hotels_by_area_and_radius.invoke({\n",
    "    \"bbox\": \"32.7550,32.8150,-96.8300,-96.7500\",  ## texas, dallas\n",
    "    \"arrival_date\": \"2025-07-10\",\n",
    "    \"departure_date\": \"2025-07-13\",\n",
    "    \"star_rating\": \"3,4,5\"\n",
    "})\n",
    "\n",
    "response2"
   ]
  },
  {
   "cell_type": "code",
   "execution_count": 15,
   "id": "84b0bed1",
   "metadata": {},
   "outputs": [
    {
     "data": {
      "text/plain": [
       "5"
      ]
     },
     "execution_count": 15,
     "metadata": {},
     "output_type": "execute_result"
    }
   ],
   "source": [
    "len(response2)"
   ]
  },
  {
   "cell_type": "code",
   "execution_count": 16,
   "id": "d2af4cf7",
   "metadata": {},
   "outputs": [
    {
     "data": {
      "text/plain": [
       "{'name': 'Mint House Dallas - Downtown',\n",
       " 'star_rating': 3.0,\n",
       " 'review_score': 9.3,\n",
       " 'review_word': 'Wonderful',\n",
       " 'review_count': 956,\n",
       " 'address': '1601 Elm Street',\n",
       " 'city': 'Dallas',\n",
       " 'district': 'Main Street District',\n",
       " 'latitude': 32.781927,\n",
       " 'longitude': -96.798179,\n",
       " 'price_per_night': 555.3,\n",
       " 'image': 'https://cf.bstatic.com/xdata/images/hotel/square60/452429741.jpg?k=dfa580de9d8e3ee7b69df307237e0b272af2e71fd6b8376c5c4df74ff1317da2&o=',\n",
       " 'booking_url': 'https://www.booking.com/hotel/us/the-guild-downtown-elm-st.html',\n",
       " 'is_free_cancellable': 0,\n",
       " 'is_mobile_deal': 1,\n",
       " 'checkin_from': '15:00',\n",
       " 'checkout_until': '11:00',\n",
       " 'distance_km': 0.84}"
      ]
     },
     "execution_count": 16,
     "metadata": {},
     "output_type": "execute_result"
    }
   ],
   "source": [
    "response2[0]"
   ]
  },
  {
   "cell_type": "code",
   "execution_count": 17,
   "id": "d6433730",
   "metadata": {},
   "outputs": [
    {
     "data": {
      "text/plain": [
       "{'name': 'Hyatt Regency Dallas',\n",
       " 'star_rating': 4.0,\n",
       " 'review_score': 8.5,\n",
       " 'review_word': 'Very Good',\n",
       " 'review_count': 999,\n",
       " 'address': '300 Reunion Boulevard',\n",
       " 'city': 'Dallas (Texas)',\n",
       " 'district': 'Downtown Dallas',\n",
       " 'latitude': 32.7764796754412,\n",
       " 'longitude': -96.8089860677719,\n",
       " 'price_per_night': 627,\n",
       " 'image': 'https://cf.bstatic.com/xdata/images/hotel/square60/199181724.jpg?k=4917e7203aecd96d01ea52c32ace43fe9ba79af9e2c50e188d7221b7c5950fb3&o=',\n",
       " 'booking_url': 'https://www.booking.com/hotel/us/hyatt-regency-dallas.html',\n",
       " 'is_free_cancellable': 1,\n",
       " 'is_mobile_deal': 0,\n",
       " 'checkin_from': '16:00',\n",
       " 'checkout_until': '11:00',\n",
       " 'distance_km': 2.01}"
      ]
     },
     "execution_count": 17,
     "metadata": {},
     "output_type": "execute_result"
    }
   ],
   "source": [
    "response2[1]"
   ]
  },
  {
   "cell_type": "code",
   "execution_count": 18,
   "id": "bc002744",
   "metadata": {},
   "outputs": [
    {
     "data": {
      "text/plain": [
       "{'name': 'Locale Victory Park - Dallas',\n",
       " 'star_rating': 5.0,\n",
       " 'review_score': 9.2,\n",
       " 'review_word': 'Wonderful',\n",
       " 'review_count': 274,\n",
       " 'address': '3111 North Houston St',\n",
       " 'city': 'Dallas',\n",
       " 'district': 'Uptown Dallas',\n",
       " 'latitude': 32.7924044039174,\n",
       " 'longitude': -96.8104961468812,\n",
       " 'price_per_night': 957,\n",
       " 'image': 'https://cf.bstatic.com/xdata/images/hotel/square60/436422388.jpg?k=1938e8d849c75e24ad39522d4cae0ed366a4fc0dee08821d4c3ad395be5278ca&o=',\n",
       " 'booking_url': 'https://www.booking.com/hotel/us/the-guild-dallas-victory-park-katy-trail.html',\n",
       " 'is_free_cancellable': 1,\n",
       " 'is_mobile_deal': 0,\n",
       " 'checkin_from': '15:00',\n",
       " 'checkout_until': '11:00',\n",
       " 'distance_km': 2.09}"
      ]
     },
     "execution_count": 18,
     "metadata": {},
     "output_type": "execute_result"
    }
   ],
   "source": [
    "response2[2]"
   ]
  },
  {
   "cell_type": "code",
   "execution_count": 19,
   "id": "4a468a6a",
   "metadata": {},
   "outputs": [
    {
     "data": {
      "text/plain": [
       "{'name': 'Hyatt House Dallas Uptown',\n",
       " 'star_rating': 3.0,\n",
       " 'review_score': 7.7,\n",
       " 'review_word': 'Good',\n",
       " 'review_count': 1060,\n",
       " 'address': '2914 Harry Hines Boulevard',\n",
       " 'city': 'Dallas (Texas)',\n",
       " 'district': 'Uptown Dallas',\n",
       " 'latitude': 32.794589,\n",
       " 'longitude': -96.809977,\n",
       " 'price_per_night': 329.43,\n",
       " 'image': 'https://cf.bstatic.com/xdata/images/hotel/square60/707312595.jpg?k=0e3132e27d3d3306ba6238d415261347418d5306fc49f226b209c5f2a8852385&o=',\n",
       " 'booking_url': 'https://www.booking.com/hotel/us/hyatt-house-dallas-uptown.html',\n",
       " 'is_free_cancellable': 1,\n",
       " 'is_mobile_deal': 0,\n",
       " 'checkin_from': '16:00',\n",
       " 'checkout_until': '11:00',\n",
       " 'distance_km': 2.15}"
      ]
     },
     "execution_count": 19,
     "metadata": {},
     "output_type": "execute_result"
    }
   ],
   "source": [
    "response2[3]"
   ]
  },
  {
   "cell_type": "code",
   "execution_count": 20,
   "id": "5d4169ce",
   "metadata": {},
   "outputs": [
    {
     "data": {
      "text/plain": [
       "19"
      ]
     },
     "execution_count": 20,
     "metadata": {},
     "output_type": "execute_result"
    }
   ],
   "source": [
    "response3 = get_hotels_by_area_and_radius.invoke({\n",
    "    \"bbox\": \"22.5370,22.5670,88.3400,88.3700\",  ## kolkata, park street\n",
    "    \"arrival_date\": \"2025-07-10\",\n",
    "    \"departure_date\": \"2025-07-13\",\n",
    "    \"star_rating\": \"3,4,5\"\n",
    "})\n",
    "\n",
    "len(response3)"
   ]
  },
  {
   "cell_type": "code",
   "execution_count": 21,
   "id": "9a4af439",
   "metadata": {},
   "outputs": [
    {
     "data": {
      "text/plain": [
       "{'name': 'Park Suites',\n",
       " 'star_rating': 3.0,\n",
       " 'review_score': 8.1,\n",
       " 'review_word': 'Very Good',\n",
       " 'review_count': 632,\n",
       " 'address': '31 Stephen Court, 18A Park Street',\n",
       " 'city': 'Kolkata',\n",
       " 'district': 'Park Street',\n",
       " 'latitude': 22.552963,\n",
       " 'longitude': 88.352319,\n",
       " 'price_per_night': 14500,\n",
       " 'image': 'https://cf.bstatic.com/xdata/images/hotel/square60/544302906.jpg?k=867705653d36741d7e83c81209691968987d98633b6bb942ef7e30db55139a0e&o=',\n",
       " 'booking_url': 'https://www.booking.com/hotel/in/park-suites.html',\n",
       " 'is_free_cancellable': 1,\n",
       " 'is_mobile_deal': 0,\n",
       " 'checkin_from': '14:00',\n",
       " 'checkout_until': '12:00',\n",
       " 'distance_km': 0.3}"
      ]
     },
     "execution_count": 21,
     "metadata": {},
     "output_type": "execute_result"
    }
   ],
   "source": [
    "response3[0]"
   ]
  },
  {
   "cell_type": "code",
   "execution_count": 22,
   "id": "c607a1e3",
   "metadata": {},
   "outputs": [
    {
     "data": {
      "text/plain": [
       "{'name': 'FabHotel Heera Holiday Inn - Nr Eden Garden Stadium',\n",
       " 'star_rating': 3.0,\n",
       " 'review_score': 5.9,\n",
       " 'review_word': 'Okay',\n",
       " 'review_count': 38,\n",
       " 'address': '51, 51,Elliot Road Park Street Near Assembly Of God Church Adjacent',\n",
       " 'city': 'Kolkata',\n",
       " 'district': '',\n",
       " 'latitude': 22.55214657,\n",
       " 'longitude': 88.35832329,\n",
       " 'price_per_night': 5234.69,\n",
       " 'image': 'https://cf.bstatic.com/xdata/images/hotel/square60/475280449.jpg?k=1d1f288b3bb82c563f173b42955fdbc6146378effb26539bd87bc8bf058fbb08&o=',\n",
       " 'booking_url': 'https://www.booking.com/hotel/in/oyo-townhouse-201-heera-holiday-inn.html',\n",
       " 'is_free_cancellable': 1,\n",
       " 'is_mobile_deal': 1,\n",
       " 'checkin_from': '12:00',\n",
       " 'checkout_until': '11:00',\n",
       " 'distance_km': 0.34}"
      ]
     },
     "execution_count": 22,
     "metadata": {},
     "output_type": "execute_result"
    }
   ],
   "source": [
    "response3[1]"
   ]
  },
  {
   "cell_type": "code",
   "execution_count": 23,
   "id": "c2c66567",
   "metadata": {},
   "outputs": [
    {
     "data": {
      "text/plain": [
       "{'name': \"Super Collection O Aafreen Tower Near St. Thomas's Church\",\n",
       " 'star_rating': 4.0,\n",
       " 'review_score': 4.0,\n",
       " 'review_word': 'Disappointing',\n",
       " 'review_count': 425,\n",
       " 'address': '9/a, K Y D Street, Esplanade, Taltala, Kolkata, West Bengal',\n",
       " 'city': 'Kolkata',\n",
       " 'district': '',\n",
       " 'latitude': 22.5557668157487,\n",
       " 'longitude': 88.3540773577988,\n",
       " 'price_per_night': 3713.6,\n",
       " 'image': 'https://cf.bstatic.com/xdata/images/hotel/square60/698410557.jpg?k=ae2e0f7d13088faa2442a65e02d3febfcd30420d213ac5a934e2a2fc561dde40&o=',\n",
       " 'booking_url': 'https://www.booking.com/hotel/in/collection-o-82694-aafreen-tower.html',\n",
       " 'is_free_cancellable': 1,\n",
       " 'is_mobile_deal': 0,\n",
       " 'checkin_from': '12:00',\n",
       " 'checkout_until': '11:00',\n",
       " 'distance_km': 0.43}"
      ]
     },
     "execution_count": 23,
     "metadata": {},
     "output_type": "execute_result"
    }
   ],
   "source": [
    "response3[2]"
   ]
  },
  {
   "cell_type": "code",
   "execution_count": 24,
   "id": "7ba3e3f7",
   "metadata": {},
   "outputs": [
    {
     "data": {
      "text/plain": [
       "{'name': 'Polo Floatel Kolkata',\n",
       " 'star_rating': 4.0,\n",
       " 'review_score': 7.2,\n",
       " 'review_word': 'Good',\n",
       " 'review_count': 376,\n",
       " 'address': '9/10 Kolkata Jetty, Opp Sbi Hq(Eastern Region), Strand Road, Kolkata',\n",
       " 'city': 'Kolkata',\n",
       " 'district': '',\n",
       " 'latitude': 22.5664834583757,\n",
       " 'longitude': 88.3401417732239,\n",
       " 'price_per_night': 13632.3,\n",
       " 'image': 'https://cf.bstatic.com/xdata/images/hotel/square60/564065544.jpg?k=9463474dbb77edfc9630b0fa920195e63516929696e82b500e67ad42602c5fcd&o=',\n",
       " 'booking_url': 'https://www.booking.com/hotel/in/floatel-an-eco-friendly.html',\n",
       " 'is_free_cancellable': 1,\n",
       " 'is_mobile_deal': 0,\n",
       " 'checkin_from': '14:00',\n",
       " 'checkout_until': '12:00',\n",
       " 'distance_km': 2.22}"
      ]
     },
     "execution_count": 24,
     "metadata": {},
     "output_type": "execute_result"
    }
   ],
   "source": [
    "response3[-1]"
   ]
  },
  {
   "cell_type": "code",
   "execution_count": null,
   "id": "186be634",
   "metadata": {},
   "outputs": [],
   "source": []
  },
  {
   "cell_type": "code",
   "execution_count": 2,
   "id": "15239822",
   "metadata": {},
   "outputs": [],
   "source": [
    "from langchain_core.tools import tool\n",
    "import os\n",
    "import requests\n",
    "from dotenv import load_dotenv\n",
    "\n",
    "load_dotenv()\n",
    "\n",
    "@tool\n",
    "def get_places(city: str, query: str = \"attractions\") -> list:\n",
    "    \"\"\"\n",
    "    Fetches top places (e.g., attractions, restaurants) in a city using the Foursquare Places API\n",
    "    and returns them as a structured JSON list.\n",
    "\n",
    "    Parameters:\n",
    "        city (str): Name of the city (e.g., 'Kolkata')\n",
    "        query (str): Type of places to search for (e.g., 'attractions', 'museums')\n",
    "\n",
    "    Returns:\n",
    "        list: A list of dictionaries, each containing:\n",
    "            - name: Place name\n",
    "            - categories: List of category names\n",
    "            - address: Formatted address\n",
    "            - phone: Telephone number if available\n",
    "            - website: Website URL if available\n",
    "\"\"\"\n",
    "    api_key = os.getenv(\"FOURSQUARE_API_KEY\")\n",
    "    if not api_key:\n",
    "        return [{\"error\": \"Missing FOURSQUARE_API_KEY\"}]\n",
    "\n",
    "    url = \"https://places-api.foursquare.com/places/search\"\n",
    "    headers = {\n",
    "        \"accept\": \"application/json\",\n",
    "        \"X-Places-Api-Version\": \"2025-06-17\",\n",
    "        \"authorization\": api_key\n",
    "    }\n",
    "    params = {\n",
    "        \"near\": city,\n",
    "        \"query\": query,\n",
    "        \"limit\": 10\n",
    "    }\n",
    "\n",
    "    response = requests.get(url, headers=headers, params=params)\n",
    "    if response.status_code != 200:\n",
    "        return [{\"error\": f\"Foursquare API error: {response.text}\"}]\n",
    "\n",
    "    results = response.json().get(\"results\", [])\n",
    "    if not results:\n",
    "        return [{\"message\": f\"No results found for '{query}' in {city}.\"}]\n",
    "\n",
    "    extracted = []\n",
    "    for place in results:\n",
    "        name = place.get(\"name\", \"Unknown\")\n",
    "        categories = [cat.get(\"name\") for cat in place.get(\"categories\", [])]\n",
    "        address = place['location']['formatted_address']\n",
    "        phone = place.get(\"tel\", None)\n",
    "        website = place.get(\"website\", None)\n",
    "\n",
    "        extracted.append({\n",
    "            \"name\": name,\n",
    "            \"categories\": categories,\n",
    "            \"address\": address,\n",
    "            \"phone\": phone,\n",
    "            \"website\": website\n",
    "        })\n",
    "\n",
    "    return extracted"
   ]
  },
  {
   "cell_type": "code",
   "execution_count": 3,
   "id": "fc909844",
   "metadata": {},
   "outputs": [
    {
     "data": {
      "text/plain": [
       "\"Fetches top places (e.g., attractions, restaurants) in a city using the Foursquare Places API\\nand returns them as a structured JSON list.\\n\\nParameters:\\n    city (str): Name of the city (e.g., 'Kolkata')\\n    query (str): Type of places to search for (e.g., 'attractions', 'museums')\\n\\nReturns:\\n    list: A list of dictionaries, each containing:\\n        - name: Place name\\n        - categories: List of category names\\n        - address: Formatted address\\n        - phone: Telephone number if available\\n        - website: Website URL if available\""
      ]
     },
     "execution_count": 3,
     "metadata": {},
     "output_type": "execute_result"
    }
   ],
   "source": [
    "get_places.description"
   ]
  },
  {
   "cell_type": "code",
   "execution_count": 4,
   "id": "3af7262c",
   "metadata": {},
   "outputs": [
    {
     "data": {
      "text/plain": [
       "{'city': {'title': 'City', 'type': 'string'},\n",
       " 'query': {'default': 'attractions', 'title': 'Query', 'type': 'string'}}"
      ]
     },
     "execution_count": 4,
     "metadata": {},
     "output_type": "execute_result"
    }
   ],
   "source": [
    "get_places.args"
   ]
  },
  {
   "cell_type": "code",
   "execution_count": 5,
   "id": "bceb3365",
   "metadata": {},
   "outputs": [
    {
     "data": {
      "text/plain": [
       "[{'name': 'Victoria Memorial',\n",
       "  'categories': ['History Museum'],\n",
       "  'address': \"1, Queen's Way, Kolkata 700071, West Bengal\",\n",
       "  'phone': '033 2223 1890',\n",
       "  'website': 'http://www.victoriamemorial-cal.org'},\n",
       " {'name': 'Science City',\n",
       "  'categories': ['Amusement Park', 'Science Museum'],\n",
       "  'address': 'Dhapa, E.M. Bypass (J.B.S. Haldane Avenue), Kolkata 700046, West Bengal',\n",
       "  'phone': '033 2285 2607',\n",
       "  'website': 'http://sciencecitykolkata.org.in'},\n",
       " {'name': 'Interior Designing Trends',\n",
       "  'categories': ['Furniture and Home Store'],\n",
       "  'address': '34A, Sashi Bhushan Dey St, Kolkata 700012, West Bengal',\n",
       "  'phone': None,\n",
       "  'website': None},\n",
       " {'name': 'Body Massage Parlor',\n",
       "  'categories': ['Massage Clinic'],\n",
       "  'address': 'Acharya Jagadish Chandra Bose Rd, Kolkata 700017, West Bengal',\n",
       "  'phone': '098743 82581',\n",
       "  'website': 'http://www.greenviewmassageparlour.com'},\n",
       " {'name': 'Nicco Park',\n",
       "  'categories': ['Amusement Park'],\n",
       "  'address': 'Sector IV, Salt Lake City, Kolkata 700106, West Bengal',\n",
       "  'phone': '033 6628 5549',\n",
       "  'website': 'http://www.niccoparks.com'},\n",
       " {'name': 'Zoological Garden, Alipore Zoo',\n",
       "  'categories': ['Zoo Exhibit'],\n",
       "  'address': 'Zoological Garden, Kolkata 700027, West Bengal',\n",
       "  'phone': None,\n",
       "  'website': None}]"
      ]
     },
     "execution_count": 5,
     "metadata": {},
     "output_type": "execute_result"
    }
   ],
   "source": [
    "get_places.invoke(\n",
    "    {\n",
    "        'city': 'kolkata',\n",
    "        'query': 'attractions'\n",
    "    }\n",
    ")"
   ]
  },
  {
   "cell_type": "markdown",
   "id": "fc428af5",
   "metadata": {},
   "source": [
    "\n"
   ]
  },
  {
   "cell_type": "code",
   "execution_count": 6,
   "id": "86bf4e7d",
   "metadata": {},
   "outputs": [],
   "source": [
    "from langchain_core.tools import tool\n",
    "import os\n",
    "import requests\n",
    "from dotenv import load_dotenv\n",
    "from datetime import datetime, timedelta\n",
    "\n",
    "load_dotenv()\n",
    "\n",
    "@tool\n",
    "def get_hotels_by_city(city: str) -> list:\n",
    "    \"\"\"\n",
    "    Get top hotels with prices per night in INR for the given city using Hotels4 (RapidAPI).\n",
    "    \n",
    "    Parameters:\n",
    "        city (str): City name (e.g., \"Kolkata\")\n",
    "\n",
    "    Returns:\n",
    "        list: List of hotels with name, price, and address\n",
    "    \"\"\"\n",
    "\n",
    "    headers = {\n",
    "        \"x-rapidapi-key\": os.getenv(\"RAPIDAPI_KEY\"),\n",
    "        \"x-rapidapi-host\": \"hotels4.p.rapidapi.com\"\n",
    "    }\n",
    "\n",
    "    # Step 1: Get gaiaId (destination identifier)\n",
    "    location_url = \"https://hotels4.p.rapidapi.com/locations/v3/search\"\n",
    "    location_params = {\n",
    "        \"q\": city,\n",
    "        \"locale\": \"en_US\",\n",
    "        \"langid\": \"1033\",\n",
    "        \"siteid\": \"3000000\"\n",
    "    }\n",
    "\n",
    "    location_resp = requests.get(location_url, headers=headers, params=location_params)\n",
    "    if location_resp.status_code != 200:\n",
    "        return [{\"error\": f\"Location fetch failed: {location_resp.text}\"}]\n",
    "\n",
    "    try:\n",
    "        gaia_id = location_resp.json()[\"sr\"][0][\"gaiaId\"]\n",
    "    except Exception:\n",
    "        return [{\"error\": f\"Could not find destination ID for city: {city}\"}]\n",
    "\n",
    "    # Step 2: Get hotel list for destination\n",
    "    hotel_url = \"https://hotels4.p.rapidapi.com/properties/v2/list\"\n",
    "    today = datetime.today()\n",
    "    checkin_date = today.strftime(\"%Y-%m-%d\")\n",
    "    checkout_date = (today + timedelta(days=1)).strftime(\"%Y-%m-%d\")\n",
    "\n",
    "    payload = {\n",
    "        \"currency\": \"INR\",\n",
    "        \"locale\": \"en_US\",\n",
    "        \"siteId\": 3000000,\n",
    "        \"destination\": {\"regionId\": gaia_id},\n",
    "        \"checkInDate\": {\n",
    "            \"day\": today.day,\n",
    "            \"month\": today.month,\n",
    "            \"year\": today.year\n",
    "        },\n",
    "        \"checkOutDate\": {\n",
    "            \"day\": (today + timedelta(days=1)).day,\n",
    "            \"month\": (today + timedelta(days=1)).month,\n",
    "            \"year\": (today + timedelta(days=1)).year\n",
    "        },\n",
    "        \"rooms\": [{\"adults\": 1}],\n",
    "        \"resultsStartingIndex\": 0,\n",
    "        \"resultsSize\": 25,\n",
    "        # \"sort\": \"PRICE_LOW_TO_HIGH\",\n",
    "        \"filters\": {}\n",
    "    }\n",
    "\n",
    "    hotel_resp = requests.post(hotel_url, json=payload, headers=headers)\n",
    "    if hotel_resp.status_code != 200:\n",
    "        return [{\"error\": f\"Hotel list fetch failed: {hotel_resp.text}\"}]\n",
    "\n",
    "    hotels_raw = hotel_resp.json().get(\"data\", {}).get(\"propertySearch\", {}).get(\"properties\", [])\n",
    "    if not hotels_raw:\n",
    "        return [{\"message\": f\"No hotel results found in {city}\"}]\n",
    "\n",
    "    results = []\n",
    "    for hotel in hotels_raw:\n",
    "        print(hotel)\n",
    "        print('*'*50)\n",
    "        print()\n",
    "        name = hotel.get(\"name\")\n",
    "        address = hotel.get(\"address\", {}).get(\"addressLine\", \"No address provided\")\n",
    "        price = hotel.get(\"price\", {}).get(\"lead\", {}).get(\"formatted\", \"N/A\")\n",
    "        results.append({\n",
    "            \"name\": name,\n",
    "            \"address\": address,\n",
    "            \"price_per_night\": price\n",
    "        })\n",
    "\n",
    "    return results"
   ]
  },
  {
   "cell_type": "code",
   "execution_count": 7,
   "id": "159b4933",
   "metadata": {},
   "outputs": [
    {
     "data": {
      "text/plain": [
       "[{'error': 'Location fetch failed: {\"message\":\"Invalid API key. Go to https:\\\\/\\\\/docs.rapidapi.com\\\\/docs\\\\/keys for more info.\"}'}]"
      ]
     },
     "execution_count": 7,
     "metadata": {},
     "output_type": "execute_result"
    }
   ],
   "source": [
    "get_hotels_by_city.invoke({\"city\": \"Kolkata\"})"
   ]
  },
  {
   "cell_type": "code",
   "execution_count": null,
   "id": "5d4adfe5",
   "metadata": {},
   "outputs": [],
   "source": []
  },
  {
   "cell_type": "code",
   "execution_count": 8,
   "id": "deb72412",
   "metadata": {},
   "outputs": [],
   "source": [
    "## currency exchange tool\n",
    "from langchain_core.tools import tool\n",
    "import requests\n",
    "\n",
    "@tool\n",
    "def convert_currency(amount: float, to_currency: str, base: str = \"USD\") -> float:\n",
    "    \"\"\"\n",
    "    Convert `amount` from `base` currency to `to_currency` using ExchangeRate-API open endpoint.\n",
    "    \"\"\"\n",
    "    url = f\"https://open.er-api.com/v6/latest/{base}\"\n",
    "    resp = requests.get(url)\n",
    "    data = resp.json()\n",
    "    rate = data[\"rates\"].get(to_currency)\n",
    "    if not rate:\n",
    "        return {\"error\": f\"Rate unavailable for {to_currency}\"}\n",
    "    return round(amount * rate, 2)"
   ]
  },
  {
   "cell_type": "code",
   "execution_count": 9,
   "id": "8d24abf3",
   "metadata": {},
   "outputs": [
    {
     "data": {
      "text/plain": [
       "{'amount': {'title': 'Amount', 'type': 'number'},\n",
       " 'to_currency': {'title': 'To Currency', 'type': 'string'},\n",
       " 'base': {'default': 'USD', 'title': 'Base', 'type': 'string'}}"
      ]
     },
     "execution_count": 9,
     "metadata": {},
     "output_type": "execute_result"
    }
   ],
   "source": [
    "convert_currency.args"
   ]
  },
  {
   "cell_type": "code",
   "execution_count": 10,
   "id": "004ef121",
   "metadata": {},
   "outputs": [
    {
     "data": {
      "text/plain": [
       "85.54"
      ]
     },
     "execution_count": 10,
     "metadata": {},
     "output_type": "execute_result"
    }
   ],
   "source": [
    "convert_currency.invoke(\n",
    "    {\n",
    "        'amount': 1,\n",
    "        'to_currency': 'INR'\n",
    "    }\n",
    ")"
   ]
  },
  {
   "cell_type": "code",
   "execution_count": null,
   "id": "8656e302",
   "metadata": {},
   "outputs": [],
   "source": []
  },
  {
   "cell_type": "code",
   "execution_count": 11,
   "id": "3758d545",
   "metadata": {},
   "outputs": [],
   "source": [
    "from langchain_core.tools import tool\n",
    "from dotenv import load_dotenv\n",
    "import requests\n",
    "import os\n",
    "\n",
    "load_dotenv()\n",
    "\n",
    "@tool\n",
    "def get_flight_fares(from_code: str, to_code: str, date: str, adult: int = 1, type_: str = \"economy\") -> list:\n",
    "    \"\"\"\n",
    "    Fetches flight fare data using the Flight Fare Search API on RapidAPI.\n",
    "\n",
    "    Args:\n",
    "        from_code (str): IATA code of departure airport (e.g., 'BLR')\n",
    "        to_code (str): IATA code of arrival airport (e.g., 'CCU')\n",
    "        date (str): Travel date in YYYY-MM-DD\n",
    "        adult (int): Number of adult passengers (default: 1)\n",
    "        type_ (str): Cabin class (default: 'economy')\n",
    "\n",
    "    Returns:\n",
    "        list: List of flights with key details: timing, pricing, stops, countries, and cabin info.\n",
    "    \"\"\"\n",
    "    url = \"https://flight-fare-search.p.rapidapi.com/v2/flights/\"\n",
    "\n",
    "    querystring = {\n",
    "        \"from\": from_code,\n",
    "        \"to\": to_code,\n",
    "        \"date\": date,\n",
    "        \"adult\": str(adult),\n",
    "        \"type\": type_,\n",
    "        \"currency\": \"USD\"\n",
    "    }\n",
    "\n",
    "    headers = {\n",
    "        \"x-rapidapi-key\": os.getenv(\"RAPIDAPI_KEY\"),\n",
    "        \"x-rapidapi-host\": \"flight-fare-search.p.rapidapi.com\"\n",
    "    }\n",
    "\n",
    "    response = requests.get(url, headers=headers, params=querystring)\n",
    "    print(\"🔍 Raw API response:\", response.status_code, response.text)\n",
    "\n",
    "    try:\n",
    "        raw = response.json()\n",
    "        flights = raw.get(\"results\", [])\n",
    "        if not isinstance(flights, list) or not flights:\n",
    "            return [{\"message\": \"No flights found.\"}]\n",
    "\n",
    "        results = []\n",
    "        for f in flights:\n",
    "            stop_info = []\n",
    "            stop_summary = f.get(\"stopSummary\", {})\n",
    "\n",
    "            # Extract intermediate stops if present\n",
    "            if isinstance(stop_summary, dict):\n",
    "                for key, val in stop_summary.items():\n",
    "                    if key != \"connectingTime\" and isinstance(val, dict):\n",
    "                        stop_info.append({\n",
    "                            \"intermediate_airport\": val.get(\"airport\", \"Unknown\"),\n",
    "                            \"stop_duration_minutes\": val.get(\"stopDuration\")\n",
    "                        })\n",
    "\n",
    "            results.append({\n",
    "                \"flight_code\": f.get(\"flight_code\"),\n",
    "                \"airline\": f.get(\"flight_name\"),\n",
    "                \"cabin_type\": f.get(\"cabinType\", \"Unknown\"),\n",
    "                \"stops\": f.get(\"stops\", \"Unknown\"),\n",
    "                \"departure_city\": f.get(\"departureAirport\", {}).get(\"city\"),\n",
    "                \"departure_country\": f.get(\"departureAirport\", {}).get(\"country\", {}).get(\"label\"),\n",
    "                \"departure_time\": f.get(\"departureAirport\", {}).get(\"time\"),\n",
    "                \"arrival_city\": f.get(\"arrivalAirport\", {}).get(\"city\"),\n",
    "                \"arrival_country\": f.get(\"arrivalAirport\", {}).get(\"country\", {}).get(\"label\"),\n",
    "                \"arrival_time\": f.get(\"arrivalAirport\", {}).get(\"time\"),\n",
    "                \"duration\": f.get(\"duration\", {}).get(\"text\"),\n",
    "                \"price\": f.get(\"totals\", {}).get(\"total\"),\n",
    "                \"currency\": f.get(\"totals\", {}).get(\"currency\"),\n",
    "                \"intermediate_stops\": stop_info if stop_info else None\n",
    "            })\n",
    "\n",
    "        return results\n",
    "\n",
    "    except Exception as e:\n",
    "        return [{\"error\": str(e)}]"
   ]
  },
  {
   "cell_type": "code",
   "execution_count": 12,
   "id": "043103a2",
   "metadata": {},
   "outputs": [
    {
     "data": {
      "text/plain": [
       "\"Fetches flight fare data using the Flight Fare Search API on RapidAPI.\\n\\nArgs:\\n    from_code (str): IATA code of departure airport (e.g., 'BLR')\\n    to_code (str): IATA code of arrival airport (e.g., 'CCU')\\n    date (str): Travel date in YYYY-MM-DD\\n    adult (int): Number of adult passengers (default: 1)\\n    type_ (str): Cabin class (default: 'economy')\\n\\nReturns:\\n    list: List of flights with key details: timing, pricing, stops, countries, and cabin info.\""
      ]
     },
     "execution_count": 12,
     "metadata": {},
     "output_type": "execute_result"
    }
   ],
   "source": [
    "get_flight_fares.description"
   ]
  },
  {
   "cell_type": "code",
   "execution_count": 13,
   "id": "f4aca303",
   "metadata": {},
   "outputs": [
    {
     "data": {
      "text/plain": [
       "{'from_code': {'title': 'From Code', 'type': 'string'},\n",
       " 'to_code': {'title': 'To Code', 'type': 'string'},\n",
       " 'date': {'title': 'Date', 'type': 'string'},\n",
       " 'adult': {'default': 1, 'title': 'Adult', 'type': 'integer'},\n",
       " 'type_': {'default': 'economy', 'title': 'Type', 'type': 'string'}}"
      ]
     },
     "execution_count": 13,
     "metadata": {},
     "output_type": "execute_result"
    }
   ],
   "source": [
    "get_flight_fares.args"
   ]
  },
  {
   "cell_type": "code",
   "execution_count": 14,
   "id": "49905c22",
   "metadata": {},
   "outputs": [
    {
     "name": "stdout",
     "output_type": "stream",
     "text": [
      "🔍 Raw API response: 401 {\"message\":\"Invalid API key. Go to https:\\/\\/docs.rapidapi.com\\/docs\\/keys for more info.\"}\n",
      "[{'message': 'No flights found.'}]\n"
     ]
    }
   ],
   "source": [
    "response = get_flight_fares.invoke({\n",
    "    \"from_code\": \"BLR\",\n",
    "    \"to_code\": \"CCU\",\n",
    "    \"date\": \"2025-07-01\"\n",
    "})\n",
    "\n",
    "print(response)"
   ]
  },
  {
   "cell_type": "code",
   "execution_count": 15,
   "id": "b0032fcc",
   "metadata": {},
   "outputs": [
    {
     "data": {
      "text/plain": [
       "[{'message': 'No flights found.'}]"
      ]
     },
     "execution_count": 15,
     "metadata": {},
     "output_type": "execute_result"
    }
   ],
   "source": [
    "response"
   ]
  },
  {
   "cell_type": "markdown",
   "id": "c5444325",
   "metadata": {},
   "source": [
    "{'id': '598773c820cf2ad796f1771aa043f6f019f262ac6b148bf6a725673a57a10086', 'careerCode': 'IX', 'flight_code': 'IX-5610', 'flight_name': 'Air India Express', 'stops': '1 Stop', 'cabinType': 'Economy', 'baggage': {'cabin': {'allowance': 7, 'qty': 1, 'unit': 'KG', 'text': '7 KG'}, 'checkIn': {'allowance': 15, 'qty': 1, 'unit': 'KG', 'text': '15 KG', 'totalWeight': 15, 'quantity': 1}, 'baggageOptionsAvailable': False}, 'currency': 'USD', 'departureAirport': {'time': '2025-07-01T05:00:00', 'code': 'BLR', 'tz': 'Asia/Kolkata', 'timeZone': '5.50', 'type': '2', 'label': 'Bengaluru International Airport', 'country': {'label': 'India', 'code': 'IN'}, 'city': 'Bangalore'}, 'arrivalAirport': {'time': '2025-07-01T12:20:00', 'code': 'CCU', 'tz': 'Asia/Kolkata', 'timeZone': '5.50', 'type': '2', 'label': 'Netaji Subhas Chandra Bose Airport', 'country': {'label': 'India', 'code': 'IN'}, 'city': 'Kolkata'}, 'path': ['IX-5610', 'IX-1256'], 'duration': {'text': '07h 20m', 'value': 440}, 'stopSummary': {'0': {'airport': 'MAA', 'stopDuration': 215}, 'connectingTime': None}, 'totals': {'currency': 'USD', 'baggage': None, 'penalty': None, 'total': 55.207840000000004, 'tax': None, 'base': 55.207840000000004}}\n",
    "\n",
    "\n",
    "{'id': 'd8f07b3f1c1c0d13445db7a76a89a07ba0eade2b70ab4f513a2b528e71df846f', 'careerCode': 'IX', 'flight_code': 'IX-5012', 'flight_name': 'Air India Express', 'stops': '1 Stop', 'cabinType': 'Economy', 'baggage': {'cabin': {'allowance': 7, 'qty': 1, 'unit': 'KG', 'text': '7 KG'}, 'checkIn': {'allowance': 15, 'qty': 1, 'unit': 'KG', 'text': '15 KG', 'totalWeight': 15, 'quantity': 1}, 'baggageOptionsAvailable': False}, 'currency': 'USD', 'departureAirport': {'time': '2025-07-01T05:15:00', 'code': 'BLR', 'tz': 'Asia/Kolkata', 'timeZone': '5.50', 'type': '2', 'label': 'Bengaluru International Airport', 'country': {'label': 'India', 'code': 'IN'}, 'city': 'Bangalore'}, 'arrivalAirport': {'time': '2025-07-01T18:30:00', 'code': 'CCU', 'tz': 'Asia/Kolkata', 'timeZone': '5.50', 'type': '2', 'label': 'Netaji Subhas Chandra Bose Airport', 'country': {'label': 'India', 'code': 'IN'}, 'city': 'Kolkata'}, 'path': ['IX-5012', 'IX-1224'], 'duration': {'text': '13h 15m', 'value': 795}, 'stopSummary': {'0': {'airport': 'HYD', 'stopDuration': 330}, 'connectingTime': None}, 'totals': {'currency': 'USD', 'baggage': None, 'penalty': None, 'total': 61.833760000000005, 'tax': None, 'base': 61.833760000000005}}\n",
    "\n",
    "\n",
    "{'id': '74afe26b11cfaf84ebbc4166f3d706e270f311194100e36d474fe2a3506cb3cc', 'careerCode': 'IX', 'flight_code': 'IX-5012', 'flight_name': 'Air India Express', 'stops': '1 Stop', 'cabinType': 'Economy', 'baggage': {'cabin': {'allowance': 7, 'qty': 1, 'unit': 'KG', 'text': '7 KG'}, 'checkIn': {'allowance': 15, 'qty': 1, 'unit': 'KG', 'text': '15 KG', 'totalWeight': 15, 'quantity': 1}, 'baggageOptionsAvailable': False}, 'currency': 'USD', 'departureAirport': {'time': '2025-07-01T05:15:00', 'code': 'BLR', 'tz': 'Asia/Kolkata', 'timeZone': '5.50', 'type': '2', 'label': 'Bengaluru International Airport', 'country': {'label': 'India', 'code': 'IN'}, 'city': 'Bangalore'}, 'arrivalAirport': {'time': '2025-07-01T20:25:00', 'code': 'CCU', 'tz': 'Asia/Kolkata', 'timeZone': '5.50', 'type': '2', 'label': 'Netaji Subhas Chandra Bose Airport', 'country': {'label': 'India', 'code': 'IN'}, 'city': 'Kolkata'}, 'path': ['IX-5012', 'IX-2825'], 'duration': {'text': '15h 10m', 'value': 910}, 'stopSummary': {'0': {'airport': 'HYD', 'stopDuration': 445}, 'connectingTime': None}, 'totals': {'currency': 'USD', 'baggage': None, 'penalty': None, 'total': 61.833760000000005, 'tax': None, 'base': 61.833760000000005}}\n",
    "\n",
    "\n",
    "{'id': 'f1ba1853c96aba6b6367411e6152c0f663a902d8a8fcb1226a0263cd5f674236', 'careerCode': 'IX', 'flight_code': 'IX-2870', 'flight_name': 'Air India Express', 'stops': '1 Stop', 'cabinType': 'Economy', 'baggage': {'cabin': {'allowance': 7, 'qty': 1, 'unit': 'KG', 'text': '7 KG'}, 'checkIn': {'allowance': 15, 'qty': 1, 'unit': 'KG', 'text': '15 KG', 'totalWeight': 15, 'quantity': 1}, 'baggageOptionsAvailable': False}, 'currency': 'USD', 'departureAirport': {'time': '2025-07-01T07:35:00', 'code': 'BLR', 'tz': 'Asia/Kolkata', 'timeZone': '5.50', 'type': '2', 'label': 'Bengaluru International Airport', 'country': {'label': 'India', 'code': 'IN'}, 'city': 'Bangalore'}, 'arrivalAirport': {'time': '2025-07-01T18:30:00', 'code': 'CCU', 'tz': 'Asia/Kolkata', 'timeZone': '5.50', 'type': '2', 'label': 'Netaji Subhas Chandra Bose Airport', 'country': {'label': 'India', 'code': 'IN'}, 'city': 'Kolkata'}, 'path': ['IX-2870', 'IX-1224'], 'duration': {'text': '10h 55m', 'value': 655}, 'stopSummary': {'0': {'airport': 'HYD', 'stopDuration': 330}, 'connectingTime': None}, 'totals': {'currency': 'USD', 'baggage': None, 'penalty': None, 'total': 61.833760000000005, 'tax': None, 'base': 61.833760000000005}}\n",
    "\n",
    "\n",
    "{'id': '3cc0a45d6ed4ef6c8a72807c3cc9e9c0b5c5964cb930780c9f8785868460f7f6', 'careerCode': 'IX', 'flight_code': 'IX-1574', 'flight_name': 'Air India Express', 'stops': 'Direct', 'cabinType': 'Economy', 'baggage': {'cabin': {'allowance': 7, 'qty': 1, 'unit': 'KG', 'text': '7 KG'}, 'checkIn': {'allowance': 15, 'qty': 1, 'unit': 'KG', 'text': '15 KG', 'totalWeight': 15, 'quantity': 1}, 'baggageOptionsAvailable': False}, 'currency': 'USD', 'departureAirport': {'time': '2025-07-01T14:30:00', 'code': 'BLR', 'tz': 'Asia/Kolkata', 'timeZone': '5.50', 'type': '2', 'label': 'Bengaluru International Airport', 'country': {'label': 'India', 'code': 'IN'}, 'city': 'Bangalore'}, 'arrivalAirport': {'time': '2025-07-01T17:20:00', 'code': 'CCU', 'tz': 'Asia/Kolkata', 'timeZone': '5.50', 'type': '2', 'label': 'Netaji Subhas Chandra Bose Airport', 'country': {'label': 'India', 'code': 'IN'}, 'city': 'Kolkata'}, 'path': ['IX-1574'], 'duration': {'text': '02h 50m', 'value': 170}, 'stopSummary': {'connectingTime': None}, 'totals': {'currency': 'USD', 'baggage': None, 'penalty': None, 'total': 74.02752000000001, 'tax': None, 'base': 74.02752000000001}}\n"
   ]
  },
  {
   "cell_type": "code",
   "execution_count": 16,
   "id": "4e96afba",
   "metadata": {},
   "outputs": [
    {
     "name": "stdout",
     "output_type": "stream",
     "text": [
      "🔍 Raw API response: 429 {\"message\":\"Too many requests\"}\n"
     ]
    },
    {
     "data": {
      "text/plain": [
       "[{'message': 'No flights found.'}]"
      ]
     },
     "execution_count": 16,
     "metadata": {},
     "output_type": "execute_result"
    }
   ],
   "source": [
    "response = get_flight_fares.invoke({\n",
    "    \"from_code\": \"DEL\",\n",
    "    \"to_code\": \"BOM\",\n",
    "    \"date\": \"2025-07-02\"\n",
    "})\n",
    "\n",
    "response"
   ]
  },
  {
   "cell_type": "code",
   "execution_count": 17,
   "id": "f27bbd8e",
   "metadata": {},
   "outputs": [
    {
     "name": "stdout",
     "output_type": "stream",
     "text": [
      "🔍 Raw API response: 429 {\"message\":\"Too many requests\"}\n"
     ]
    },
    {
     "data": {
      "text/plain": [
       "[{'message': 'No flights found.'}]"
      ]
     },
     "execution_count": 17,
     "metadata": {},
     "output_type": "execute_result"
    }
   ],
   "source": [
    "query = {\n",
    "    \"from_code\": \"BLR\",\n",
    "    \"to_code\": \"BKK\",\n",
    "    \"date\": \"2025-07-02\"\n",
    "}\n",
    "\n",
    "response = get_flight_fares.invoke(query)\n",
    "response"
   ]
  },
  {
   "cell_type": "code",
   "execution_count": null,
   "id": "7c2314aa",
   "metadata": {},
   "outputs": [],
   "source": []
  }
 ],
 "metadata": {
  "kernelspec": {
   "display_name": "Python 3",
   "language": "python",
   "name": "python3"
  },
  "language_info": {
   "codemirror_mode": {
    "name": "ipython",
    "version": 3
   },
   "file_extension": ".py",
   "mimetype": "text/x-python",
   "name": "python",
   "nbconvert_exporter": "python",
   "pygments_lexer": "ipython3",
   "version": "3.12.0"
  }
 },
 "nbformat": 4,
 "nbformat_minor": 5
}
